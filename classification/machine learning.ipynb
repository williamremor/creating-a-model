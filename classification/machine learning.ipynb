{
 "cells": [
  {
   "cell_type": "markdown",
   "metadata": {},
   "source": [
    "# what is machine learning?"
   ]
  },
  {
   "cell_type": "code",
   "execution_count": null,
   "metadata": {},
   "outputs": [],
   "source": [
    "the art and science of\n",
    "* giving  computers the  ability to learn to  make decisions  from data\n",
    "* … without being  explicitly  programmed!"
   ]
  },
  {
   "cell_type": "markdown",
   "metadata": {},
   "source": [
    "## unsupervised  learning: unlabeled  data"
   ]
  },
  {
   "cell_type": "code",
   "execution_count": null,
   "metadata": {},
   "outputs": [],
   "source": [
    "uncovering  hidden patterns from unlabeled  data\n",
    "* clustering: grouping  customers into  distinct  categories\n",
    "* dimension reduction: compressing data using patterns"
   ]
  },
  {
   "cell_type": "markdown",
   "metadata": {},
   "source": [
    "## supervised  learning: labeled data"
   ]
  },
  {
   "cell_type": "code",
   "execution_count": null,
   "metadata": {},
   "outputs": [],
   "source": [
    "using predictor variables/features aims to predict a target variable\n",
    "* classification: target variable  consists of  categories\n",
    "* regression: target variable is  continuous"
   ]
  },
  {
   "cell_type": "code",
   "execution_count": null,
   "metadata": {},
   "outputs": [],
   "source": [
    "naming conventions\n",
    "* features =  predictor  variables =  independent  variables\n",
    "* target variable  = dependent  variable =  response  variable"
   ]
  },
  {
   "cell_type": "code",
   "execution_count": null,
   "metadata": {},
   "outputs": [],
   "source": [
    "used to:\n",
    "* automate  time-consuming or  expensive manual  tasks\n",
    "* make predictions  about the future"
   ]
  },
  {
   "cell_type": "code",
   "execution_count": null,
   "metadata": {},
   "outputs": [],
   "source": [
    "labeled data comes from:\n",
    "* Historical data with labels\n",
    "* Experiments\n",
    "* Crowd-sourcing"
   ]
  },
  {
   "cell_type": "code",
   "execution_count": null,
   "metadata": {},
   "outputs": [],
   "source": [
    "tools in python\n",
    "scikit-learn/sklearn\n",
    "SciPy stack"
   ]
  },
  {
   "cell_type": "code",
   "execution_count": null,
   "metadata": {},
   "outputs": [],
   "source": [
    "other tools\n",
    "· TensorFlow\n",
    "· keras"
   ]
  },
  {
   "cell_type": "markdown",
   "metadata": {},
   "source": [
    "## reinforcement  learning"
   ]
  },
  {
   "cell_type": "code",
   "execution_count": null,
   "metadata": {},
   "outputs": [],
   "source": [
    "* software agents interact with an  environment\n",
    "* learn how to  optimize their  behavior\n",
    "* given a system of  rewards and  punishments\n",
    "* draws inspiration  from behavioral  psychology\n",
    "* applications: Economics, Genetics, Game playing\n",
    "* alphaGo: First  computer to defeat  the world champion  in Go"
   ]
  }
 ],
 "metadata": {
  "kernelspec": {
   "display_name": "Python 3",
   "language": "python",
   "name": "python3"
  },
  "language_info": {
   "codemirror_mode": {
    "name": "ipython",
    "version": 3
   },
   "file_extension": ".py",
   "mimetype": "text/x-python",
   "name": "python",
   "nbconvert_exporter": "python",
   "pygments_lexer": "ipython3",
   "version": "3.6.4"
  }
 },
 "nbformat": 4,
 "nbformat_minor": 2
}

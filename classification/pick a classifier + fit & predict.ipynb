{
 "cells": [
  {
   "cell_type": "markdown",
   "metadata": {},
   "source": [
    "# types of classifiers"
   ]
  },
  {
   "cell_type": "code",
   "execution_count": null,
   "metadata": {
    "collapsed": true
   },
   "outputs": [],
   "source": [
    "* linear regression (lasso, ridge)\n",
    "* logistic regression\n",
    "* k nearest neighbor\n",
    "* decision tree\n",
    "* random forest\n",
    "* elastic search\n",
    "* support vector machine"
   ]
  },
  {
   "cell_type": "markdown",
   "metadata": {},
   "source": [
    "# measuring model performance"
   ]
  },
  {
   "cell_type": "code",
   "execution_count": null,
   "metadata": {
    "collapsed": true
   },
   "outputs": [],
   "source": [
    "* split data into training and test set\n",
    "* fit/train the classifier on the training set\n",
    "* make predictions on test set\n",
    "* compare predictions with  the known labels"
   ]
  },
  {
   "cell_type": "code",
   "execution_count": null,
   "metadata": {
    "collapsed": true
   },
   "outputs": [],
   "source": [
    "x = data\n",
    "y = target\n",
    "\n",
    "X =  dataframe.drop('targetname',  axis=1).values\n",
    "y =  dataframe['targetname'].values"
   ]
  },
  {
   "cell_type": "code",
   "execution_count": null,
   "metadata": {
    "collapsed": true
   },
   "outputs": [],
   "source": [
    "X_train, X_test,  y_train, y_test = train_test_split(X, y,  test_size=0.3, random_state=21,  stratify=y)"
   ]
  },
  {
   "cell_type": "code",
   "execution_count": null,
   "metadata": {
    "collapsed": true
   },
   "outputs": [],
   "source": [
    "classifier.fit(X_train,  y_train)\n",
    "classifier.predict(X_test)\n",
    "classifier.score(X_test,  y_test)"
   ]
  },
  {
   "cell_type": "code",
   "execution_count": null,
   "metadata": {
    "collapsed": true
   },
   "outputs": [],
   "source": [
    "scikit-learn fit and predict\n",
    "* all machine learning models implemented as Python classes\n",
    "* implement the  algorithms for  learning and  predicting\n",
    "* store the  information  learned from the  data\n",
    "* training a model on the  data = ‘fitting’ a  model to the data -> .fit() method\n",
    "* predicting labels of new  data -> .predict()  method\n",
    "* use of the .valuesattribute to ensure X and y are NumPy arrays"
   ]
  },
  {
   "cell_type": "code",
   "execution_count": null,
   "metadata": {
    "collapsed": true
   },
   "outputs": [],
   "source": [
    "usefull tips\n",
    "* se data points oscilam em torno / retornam sempre a média, faz sentido usar regressão linear\n",
    "* erro estável, pode ser contido numa faixa\n",
    "* não usar variáveis colineares nem variáveis correlacionadas para criar modelo"
   ]
  }
 ],
 "metadata": {
  "kernelspec": {
   "display_name": "Python 3",
   "language": "python",
   "name": "python3"
  },
  "language_info": {
   "codemirror_mode": {
    "name": "ipython",
    "version": 3
   },
   "file_extension": ".py",
   "mimetype": "text/x-python",
   "name": "python",
   "nbconvert_exporter": "python",
   "pygments_lexer": "ipython3",
   "version": "3.6.3"
  }
 },
 "nbformat": 4,
 "nbformat_minor": 2
}

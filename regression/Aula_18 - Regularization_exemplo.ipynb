{
 "cells": [
  {
   "cell_type": "markdown",
   "metadata": {},
   "source": [
    "# Regularization: Regressão LASSO e Ridge"
   ]
  },
  {
   "cell_type": "markdown",
   "metadata": {},
   "source": [
    "Objetivo: Avaliar a base de dados *\"Boston House Prices\"* utilizando os métodos LASSO e Ridge e comparar o resultado com o modelo tradicional de regressão linear."
   ]
  },
  {
   "cell_type": "markdown",
   "metadata": {},
   "source": [
    "## 1. Carregando Base dados"
   ]
  },
  {
   "cell_type": "code",
   "execution_count": 45,
   "metadata": {
    "collapsed": true
   },
   "outputs": [],
   "source": [
    "# ## Carga inicial\n",
    "# Será utilizada a biblioteca [scikit-learn](http://scikit-learn.org/) para o trabalho.\n",
    "# A partir da biblioteca, é possível carregar diretamente os dados que serão utilizados. \n",
    "#Esses dados serão carregados em um DataFrame para facilitar a visualização e a manipulação.\n",
    "\n",
    "# In[1]:\n",
    "from sklearn.datasets import load_boston\n",
    "\n",
    "boston = load_boston()\n",
    "#print(boston.DESCR)\n"
   ]
  },
  {
   "cell_type": "code",
   "execution_count": 46,
   "metadata": {},
   "outputs": [
    {
     "data": {
      "text/html": [
       "<div>\n",
       "<style>\n",
       "    .dataframe thead tr:only-child th {\n",
       "        text-align: right;\n",
       "    }\n",
       "\n",
       "    .dataframe thead th {\n",
       "        text-align: left;\n",
       "    }\n",
       "\n",
       "    .dataframe tbody tr th {\n",
       "        vertical-align: top;\n",
       "    }\n",
       "</style>\n",
       "<table border=\"1\" class=\"dataframe\">\n",
       "  <thead>\n",
       "    <tr style=\"text-align: right;\">\n",
       "      <th></th>\n",
       "      <th>CRIM</th>\n",
       "      <th>ZN</th>\n",
       "      <th>INDUS</th>\n",
       "      <th>CHAS</th>\n",
       "      <th>NOX</th>\n",
       "      <th>RM</th>\n",
       "      <th>AGE</th>\n",
       "      <th>DIS</th>\n",
       "      <th>RAD</th>\n",
       "      <th>TAX</th>\n",
       "      <th>PTRATIO</th>\n",
       "      <th>B</th>\n",
       "      <th>LSTAT</th>\n",
       "      <th>Price</th>\n",
       "    </tr>\n",
       "  </thead>\n",
       "  <tbody>\n",
       "    <tr>\n",
       "      <th>0</th>\n",
       "      <td>0.00632</td>\n",
       "      <td>18</td>\n",
       "      <td>2.31</td>\n",
       "      <td>0</td>\n",
       "      <td>0.538</td>\n",
       "      <td>6.58</td>\n",
       "      <td>65.2</td>\n",
       "      <td>4.09</td>\n",
       "      <td>1</td>\n",
       "      <td>296</td>\n",
       "      <td>15.3</td>\n",
       "      <td>397</td>\n",
       "      <td>4.98</td>\n",
       "      <td>24</td>\n",
       "    </tr>\n",
       "    <tr>\n",
       "      <th>1</th>\n",
       "      <td>0.0273</td>\n",
       "      <td>0</td>\n",
       "      <td>7.07</td>\n",
       "      <td>0</td>\n",
       "      <td>0.469</td>\n",
       "      <td>6.42</td>\n",
       "      <td>78.9</td>\n",
       "      <td>4.97</td>\n",
       "      <td>2</td>\n",
       "      <td>242</td>\n",
       "      <td>17.8</td>\n",
       "      <td>397</td>\n",
       "      <td>9.14</td>\n",
       "      <td>21.6</td>\n",
       "    </tr>\n",
       "    <tr>\n",
       "      <th>2</th>\n",
       "      <td>0.0273</td>\n",
       "      <td>0</td>\n",
       "      <td>7.07</td>\n",
       "      <td>0</td>\n",
       "      <td>0.469</td>\n",
       "      <td>7.18</td>\n",
       "      <td>61.1</td>\n",
       "      <td>4.97</td>\n",
       "      <td>2</td>\n",
       "      <td>242</td>\n",
       "      <td>17.8</td>\n",
       "      <td>393</td>\n",
       "      <td>4.03</td>\n",
       "      <td>34.7</td>\n",
       "    </tr>\n",
       "    <tr>\n",
       "      <th>3</th>\n",
       "      <td>0.0324</td>\n",
       "      <td>0</td>\n",
       "      <td>2.18</td>\n",
       "      <td>0</td>\n",
       "      <td>0.458</td>\n",
       "      <td>7</td>\n",
       "      <td>45.8</td>\n",
       "      <td>6.06</td>\n",
       "      <td>3</td>\n",
       "      <td>222</td>\n",
       "      <td>18.7</td>\n",
       "      <td>395</td>\n",
       "      <td>2.94</td>\n",
       "      <td>33.4</td>\n",
       "    </tr>\n",
       "    <tr>\n",
       "      <th>4</th>\n",
       "      <td>0.0691</td>\n",
       "      <td>0</td>\n",
       "      <td>2.18</td>\n",
       "      <td>0</td>\n",
       "      <td>0.458</td>\n",
       "      <td>7.15</td>\n",
       "      <td>54.2</td>\n",
       "      <td>6.06</td>\n",
       "      <td>3</td>\n",
       "      <td>222</td>\n",
       "      <td>18.7</td>\n",
       "      <td>397</td>\n",
       "      <td>5.33</td>\n",
       "      <td>36.2</td>\n",
       "    </tr>\n",
       "  </tbody>\n",
       "</table>\n",
       "</div>"
      ],
      "text/plain": [
       "     CRIM  ZN  INDUS  CHAS   NOX   RM  AGE  DIS  RAD  TAX  PTRATIO   B  LSTAT  \\\n",
       "0 0.00632  18   2.31     0 0.538 6.58 65.2 4.09    1  296     15.3 397   4.98   \n",
       "1  0.0273   0   7.07     0 0.469 6.42 78.9 4.97    2  242     17.8 397   9.14   \n",
       "2  0.0273   0   7.07     0 0.469 7.18 61.1 4.97    2  242     17.8 393   4.03   \n",
       "3  0.0324   0   2.18     0 0.458    7 45.8 6.06    3  222     18.7 395   2.94   \n",
       "4  0.0691   0   2.18     0 0.458 7.15 54.2 6.06    3  222     18.7 397   5.33   \n",
       "\n",
       "   Price  \n",
       "0     24  \n",
       "1   21.6  \n",
       "2   34.7  \n",
       "3   33.4  \n",
       "4   36.2  "
      ]
     },
     "execution_count": 46,
     "metadata": {},
     "output_type": "execute_result"
    }
   ],
   "source": [
    "# In[2]:\n",
    "import pandas as pd\n",
    "boston_df = pd.DataFrame(boston.data)\n",
    "boston_df.columns = boston.feature_names\n",
    "boston_df['Price'] = boston.target\n",
    "\n",
    "pd.options.display.float_format = '{:,.3g}'.format # Just Format!\n",
    "boston_df.head()\n"
   ]
  },
  {
   "cell_type": "markdown",
   "metadata": {},
   "source": [
    "## 2. Regressão Linear\n",
    "\n",
    "A regressão linear será realizada utilizando o método dos mínimos quadrados."
   ]
  },
  {
   "cell_type": "markdown",
   "metadata": {},
   "source": [
    "### 2.1 Linear: Ajustando o Modelo"
   ]
  },
  {
   "cell_type": "code",
   "execution_count": 47,
   "metadata": {},
   "outputs": [
    {
     "data": {
      "text/html": [
       "<div>\n",
       "<style>\n",
       "    .dataframe thead tr:only-child th {\n",
       "        text-align: right;\n",
       "    }\n",
       "\n",
       "    .dataframe thead th {\n",
       "        text-align: left;\n",
       "    }\n",
       "\n",
       "    .dataframe tbody tr th {\n",
       "        vertical-align: top;\n",
       "    }\n",
       "</style>\n",
       "<table border=\"1\" class=\"dataframe\">\n",
       "  <thead>\n",
       "    <tr style=\"text-align: right;\">\n",
       "      <th></th>\n",
       "      <th>Intercept</th>\n",
       "      <th>CRIM</th>\n",
       "      <th>ZN</th>\n",
       "      <th>INDUS</th>\n",
       "      <th>CHAS</th>\n",
       "      <th>NOX</th>\n",
       "      <th>RM</th>\n",
       "      <th>AGE</th>\n",
       "      <th>DIS</th>\n",
       "      <th>RAD</th>\n",
       "      <th>TAX</th>\n",
       "      <th>PTRATIO</th>\n",
       "      <th>B</th>\n",
       "      <th>LSTAT</th>\n",
       "    </tr>\n",
       "  </thead>\n",
       "  <tbody>\n",
       "    <tr>\n",
       "      <th>OLS</th>\n",
       "      <td>22.5</td>\n",
       "      <td>-0.92</td>\n",
       "      <td>1.08</td>\n",
       "      <td>0.143</td>\n",
       "      <td>0.682</td>\n",
       "      <td>-2.06</td>\n",
       "      <td>2.67</td>\n",
       "      <td>0.0211</td>\n",
       "      <td>-3.1</td>\n",
       "      <td>2.66</td>\n",
       "      <td>-2.08</td>\n",
       "      <td>-2.06</td>\n",
       "      <td>0.857</td>\n",
       "      <td>-3.75</td>\n",
       "    </tr>\n",
       "  </tbody>\n",
       "</table>\n",
       "</div>"
      ],
      "text/plain": [
       "     Intercept  CRIM   ZN  INDUS  CHAS   NOX   RM    AGE  DIS  RAD   TAX  \\\n",
       "OLS       22.5 -0.92 1.08  0.143 0.682 -2.06 2.67 0.0211 -3.1 2.66 -2.08   \n",
       "\n",
       "     PTRATIO     B  LSTAT  \n",
       "OLS    -2.06 0.857  -3.75  "
      ]
     },
     "execution_count": 47,
     "metadata": {},
     "output_type": "execute_result"
    }
   ],
   "source": [
    "# In[3]:\n",
    "from sklearn.linear_model import LinearRegression\n",
    "import numpy as np\n",
    "\n",
    "lr = LinearRegression()\n",
    "\n",
    "_x = boston_df.drop('Price', axis=1)\n",
    "y = boston_df['Price']\n",
    "\n",
    "# Normalizando as variáveis input\n",
    "mu = np.mean(_x, axis=0)\n",
    "sigma = np.std(_x, axis=0)\n",
    "x = (_x - mu) / sigma\n",
    "\n",
    "lr.fit(x, y)\n",
    "\n",
    "# Apresentamos abaixo os coeficientes calculados.\n",
    "coef_df = pd.DataFrame(index=np.append(['Intercept'], boston.feature_names))\n",
    "coef_df['OLS'] = np.append([lr.intercept_], lr.coef_) \n",
    "coef_df.T"
   ]
  },
  {
   "cell_type": "markdown",
   "metadata": {
    "collapsed": true
   },
   "source": [
    "### 2.2 Linear: Calculando estatística de ajuste"
   ]
  },
  {
   "cell_type": "code",
   "execution_count": 48,
   "metadata": {},
   "outputs": [
    {
     "data": {
      "text/html": [
       "<div>\n",
       "<style>\n",
       "    .dataframe thead tr:only-child th {\n",
       "        text-align: right;\n",
       "    }\n",
       "\n",
       "    .dataframe thead th {\n",
       "        text-align: left;\n",
       "    }\n",
       "\n",
       "    .dataframe tbody tr th {\n",
       "        vertical-align: top;\n",
       "    }\n",
       "</style>\n",
       "<table border=\"1\" class=\"dataframe\">\n",
       "  <thead>\n",
       "    <tr style=\"text-align: right;\">\n",
       "      <th></th>\n",
       "      <th>OLS</th>\n",
       "    </tr>\n",
       "  </thead>\n",
       "  <tbody>\n",
       "    <tr>\n",
       "      <th>MSE</th>\n",
       "      <td>21.9</td>\n",
       "    </tr>\n",
       "    <tr>\n",
       "      <th>R²</th>\n",
       "      <td>0.741</td>\n",
       "    </tr>\n",
       "  </tbody>\n",
       "</table>\n",
       "</div>"
      ],
      "text/plain": [
       "      OLS\n",
       "MSE  21.9\n",
       "R²  0.741"
      ]
     },
     "execution_count": 48,
     "metadata": {},
     "output_type": "execute_result"
    }
   ],
   "source": [
    "# In[4]:\n",
    "from sklearn.metrics import mean_squared_error, r2_score\n",
    "\n",
    "mse_ls = mean_squared_error(y, lr.predict(x))\n",
    "r2_ls = r2_score(y, lr.predict(x))\n",
    "\n",
    "#Colocando as estatisticas de ajuste MSE e R^2 em tabela\n",
    "result_df = pd.DataFrame(index=['MSE', 'R\\u00b2'])\n",
    "result_df['OLS'] = [mse_ls, r2_ls]\n",
    "result_df"
   ]
  },
  {
   "cell_type": "markdown",
   "metadata": {
    "collapsed": true
   },
   "source": [
    "### 2.3 Linear: Gráfico Real X Previsto"
   ]
  },
  {
   "cell_type": "code",
   "execution_count": 49,
   "metadata": {},
   "outputs": [
    {
     "data": {
      "image/png": "[encoded data removed]",
      "text/plain": [
       "<matplotlib.figure.Figure at 0x262d545a438>"
      ]
     },
     "metadata": {},
     "output_type": "display_data"
    }
   ],
   "source": [
    "# ... e o gráfico com a diferença entre o preço real e o calculado.\n",
    "# In[5]:\n",
    "import matplotlib.pyplot as plt\n",
    "#get_ipython().magic('matplotlib inline')\n",
    "\n",
    "def scatterPlot(actual, predicted):\n",
    "    plt.scatter(actual, predicted)\n",
    "    range = [actual.min(), actual.max()]\n",
    "    plt.plot(range, range, 'black')\n",
    "    plt.xlabel(\"Preco Real\")\n",
    "    plt.ylabel(\"Preco Calculado\")\n",
    "    plt.show()\n",
    "\n",
    "scatterPlot(y, lr.predict(x))"
   ]
  },
  {
   "cell_type": "markdown",
   "metadata": {
    "collapsed": true
   },
   "source": [
    "### 2.4 Linear: Validação Cruzada 5-fold"
   ]
  },
  {
   "cell_type": "code",
   "execution_count": 50,
   "metadata": {},
   "outputs": [
    {
     "name": "stdout",
     "output_type": "stream",
     "text": [
      "[Fold 1] R²: 0.64\n",
      "[Fold 2] R²: 0.71\n",
      "[Fold 3] R²: 0.59\n",
      "[Fold 4] R²: 0.08\n",
      "[Fold 5] R²: -0.26\n"
     ]
    },
    {
     "data": {
      "text/html": [
       "<div>\n",
       "<style>\n",
       "    .dataframe thead tr:only-child th {\n",
       "        text-align: right;\n",
       "    }\n",
       "\n",
       "    .dataframe thead th {\n",
       "        text-align: left;\n",
       "    }\n",
       "\n",
       "    .dataframe tbody tr th {\n",
       "        vertical-align: top;\n",
       "    }\n",
       "</style>\n",
       "<table border=\"1\" class=\"dataframe\">\n",
       "  <thead>\n",
       "    <tr style=\"text-align: right;\">\n",
       "      <th></th>\n",
       "      <th>OLS</th>\n",
       "      <th>OLS - CV</th>\n",
       "    </tr>\n",
       "  </thead>\n",
       "  <tbody>\n",
       "    <tr>\n",
       "      <th>MSE</th>\n",
       "      <td>21.9</td>\n",
       "      <td>37.2</td>\n",
       "    </tr>\n",
       "    <tr>\n",
       "      <th>R²</th>\n",
       "      <td>0.741</td>\n",
       "      <td>0.56</td>\n",
       "    </tr>\n",
       "  </tbody>\n",
       "</table>\n",
       "</div>"
      ],
      "text/plain": [
       "      OLS  OLS - CV\n",
       "MSE  21.9      37.2\n",
       "R²  0.741      0.56"
      ]
     },
     "execution_count": 50,
     "metadata": {},
     "output_type": "execute_result"
    }
   ],
   "source": [
    "# ## Validação Cruzada\n",
    "# É possível verificar no gráfico acima que, para os preços mais altos, o modelo não representou bem os dados.\n",
    "# Faremos uma validação cruzada para verificar esse comportamento. Os dados serão divididos em 5 grupos.\n",
    "\n",
    "# In[6]:\n",
    "#from sklearn.cross_validation import KFold\n",
    "from sklearn.model_selection import KFold\n",
    "#KFold(n_splits=2, random_state=None, shuffle=False)\n",
    "\n",
    "kf = KFold(n_splits=5)\n",
    "p = np.zeros_like(y)\n",
    "\n",
    "for k, (train, test) in enumerate(kf.split(x)):\n",
    "    lr.fit(x.loc[train], y[train])\n",
    "    p[test] = lr.predict(x.loc[test])\n",
    "    print(\"[Fold {0}] R\\u00b2: {1:.2f}\".\n",
    "          format(k+1, lr.score(x.loc[test], y[test])))\n",
    "    \n",
    "mse_ls_cv = mean_squared_error(y, p)\n",
    "r2_ls_cv = r2_score(y, p)\n",
    "\n",
    "result_df['OLS - CV'] = [mse_ls_cv, r2_ls_cv]\n",
    "result_df\n",
    "# É possível verificar que o $R^2$ foi baixo para os dois últimos grupos."
   ]
  },
  {
   "cell_type": "code",
   "execution_count": 51,
   "metadata": {},
   "outputs": [
    {
     "data": {
      "image/png": "[encoded data removed]",
      "text/plain": [
       "<matplotlib.figure.Figure at 0x262d53a0f28>"
      ]
     },
     "metadata": {},
     "output_type": "display_data"
    }
   ],
   "source": [
    "# In[7]:\n",
    "scatterPlot(y, p)"
   ]
  },
  {
   "cell_type": "markdown",
   "metadata": {},
   "source": [
    "## 3. Regressão LASSO\n",
    "\n",
    "Utilizaremos a técnica *Least Absolute Shrinkage and Selection Operator - LASSO* para selecionar as variáveis explicativas utilizando um parâmetro de regularização $\\alpha = 0.13$."
   ]
  },
  {
   "cell_type": "markdown",
   "metadata": {},
   "source": [
    "### 3.1 LASSO: Ajustando o Modelo "
   ]
  },
  {
   "cell_type": "code",
   "execution_count": 52,
   "metadata": {},
   "outputs": [
    {
     "data": {
      "text/html": [
       "<div>\n",
       "<style>\n",
       "    .dataframe thead tr:only-child th {\n",
       "        text-align: right;\n",
       "    }\n",
       "\n",
       "    .dataframe thead th {\n",
       "        text-align: left;\n",
       "    }\n",
       "\n",
       "    .dataframe tbody tr th {\n",
       "        vertical-align: top;\n",
       "    }\n",
       "</style>\n",
       "<table border=\"1\" class=\"dataframe\">\n",
       "  <thead>\n",
       "    <tr style=\"text-align: right;\">\n",
       "      <th></th>\n",
       "      <th>Intercept</th>\n",
       "      <th>CRIM</th>\n",
       "      <th>ZN</th>\n",
       "      <th>INDUS</th>\n",
       "      <th>CHAS</th>\n",
       "      <th>NOX</th>\n",
       "      <th>RM</th>\n",
       "      <th>AGE</th>\n",
       "      <th>DIS</th>\n",
       "      <th>RAD</th>\n",
       "      <th>TAX</th>\n",
       "      <th>PTRATIO</th>\n",
       "      <th>B</th>\n",
       "      <th>LSTAT</th>\n",
       "    </tr>\n",
       "  </thead>\n",
       "  <tbody>\n",
       "    <tr>\n",
       "      <th>LASSO</th>\n",
       "      <td>22.5</td>\n",
       "      <td>-0.537</td>\n",
       "      <td>0.596</td>\n",
       "      <td>-0.0366</td>\n",
       "      <td>0.65</td>\n",
       "      <td>-1.43</td>\n",
       "      <td>2.87</td>\n",
       "      <td>-0</td>\n",
       "      <td>-2.21</td>\n",
       "      <td>0.755</td>\n",
       "      <td>-0.479</td>\n",
       "      <td>-1.88</td>\n",
       "      <td>0.74</td>\n",
       "      <td>-3.73</td>\n",
       "    </tr>\n",
       "  </tbody>\n",
       "</table>\n",
       "</div>"
      ],
      "text/plain": [
       "       Intercept   CRIM    ZN   INDUS  CHAS   NOX   RM  AGE   DIS   RAD  \\\n",
       "LASSO       22.5 -0.537 0.596 -0.0366  0.65 -1.43 2.87   -0 -2.21 0.755   \n",
       "\n",
       "         TAX  PTRATIO    B  LSTAT  \n",
       "LASSO -0.479    -1.88 0.74  -3.73  "
      ]
     },
     "execution_count": 52,
     "metadata": {},
     "output_type": "execute_result"
    }
   ],
   "source": [
    "# ## Regressão LASSO\n",
    "# \n",
    "# In[8]:\n",
    "from sklearn.linear_model import Lasso\n",
    "\n",
    "alpha = 0.13\n",
    "\n",
    "las = Lasso(alpha=alpha)\n",
    "las.fit(x, y)\n",
    "\n",
    "# Apresentamos abaixo os coeficientes calculados.\n",
    "coef_df1 = pd.DataFrame(index=np.append(['Intercept'], boston.feature_names))\n",
    "coef_df1['LASSO'] = np.append([las.intercept_], las.coef_) \n",
    "coef_df1.T"
   ]
  },
  {
   "cell_type": "markdown",
   "metadata": {
    "collapsed": true
   },
   "source": [
    "### 3.2 LASSO: Calculando estatística de ajuste"
   ]
  },
  {
   "cell_type": "code",
   "execution_count": 53,
   "metadata": {},
   "outputs": [
    {
     "data": {
      "text/html": [
       "<div>\n",
       "<style>\n",
       "    .dataframe thead tr:only-child th {\n",
       "        text-align: right;\n",
       "    }\n",
       "\n",
       "    .dataframe thead th {\n",
       "        text-align: left;\n",
       "    }\n",
       "\n",
       "    .dataframe tbody tr th {\n",
       "        vertical-align: top;\n",
       "    }\n",
       "</style>\n",
       "<table border=\"1\" class=\"dataframe\">\n",
       "  <thead>\n",
       "    <tr style=\"text-align: right;\">\n",
       "      <th></th>\n",
       "      <th>OLS</th>\n",
       "      <th>OLS - CV</th>\n",
       "      <th>LASSO</th>\n",
       "    </tr>\n",
       "  </thead>\n",
       "  <tbody>\n",
       "    <tr>\n",
       "      <th>MSE</th>\n",
       "      <td>21.9</td>\n",
       "      <td>37.2</td>\n",
       "      <td>22.7</td>\n",
       "    </tr>\n",
       "    <tr>\n",
       "      <th>R²</th>\n",
       "      <td>0.741</td>\n",
       "      <td>0.56</td>\n",
       "      <td>0.732</td>\n",
       "    </tr>\n",
       "  </tbody>\n",
       "</table>\n",
       "</div>"
      ],
      "text/plain": [
       "      OLS  OLS - CV  LASSO\n",
       "MSE  21.9      37.2   22.7\n",
       "R²  0.741      0.56  0.732"
      ]
     },
     "execution_count": 53,
     "metadata": {},
     "output_type": "execute_result"
    }
   ],
   "source": [
    "mse_lasso = mean_squared_error(y, las.predict(x))\n",
    "r2_lasso = r2_score(y, las.predict(x))\n",
    "\n",
    "result_df['LASSO'] = [mse_lasso, r2_lasso]\n",
    "result_df"
   ]
  },
  {
   "cell_type": "markdown",
   "metadata": {
    "collapsed": true
   },
   "source": [
    "### 3.3 LASSO: Gráfico Real X Previsto"
   ]
  },
  {
   "cell_type": "code",
   "execution_count": 54,
   "metadata": {},
   "outputs": [
    {
     "data": {
      "image/png": "[encoded data removed]",
      "text/plain": [
       "<matplotlib.figure.Figure at 0x262d532ffd0>"
      ]
     },
     "metadata": {},
     "output_type": "display_data"
    }
   ],
   "source": [
    "# In[9]:\n",
    "scatterPlot(y, las.predict(x))"
   ]
  },
  {
   "cell_type": "markdown",
   "metadata": {
    "collapsed": true
   },
   "source": [
    "### 3.4 Comparação dos coeficientes: Regressão Linear X LASSO"
   ]
  },
  {
   "cell_type": "code",
   "execution_count": 55,
   "metadata": {},
   "outputs": [
    {
     "data": {
      "text/html": [
       "<div>\n",
       "<style>\n",
       "    .dataframe thead tr:only-child th {\n",
       "        text-align: right;\n",
       "    }\n",
       "\n",
       "    .dataframe thead th {\n",
       "        text-align: left;\n",
       "    }\n",
       "\n",
       "    .dataframe tbody tr th {\n",
       "        vertical-align: top;\n",
       "    }\n",
       "</style>\n",
       "<table border=\"1\" class=\"dataframe\">\n",
       "  <thead>\n",
       "    <tr style=\"text-align: right;\">\n",
       "      <th></th>\n",
       "      <th>Intercept</th>\n",
       "      <th>CRIM</th>\n",
       "      <th>ZN</th>\n",
       "      <th>INDUS</th>\n",
       "      <th>CHAS</th>\n",
       "      <th>NOX</th>\n",
       "      <th>RM</th>\n",
       "      <th>AGE</th>\n",
       "      <th>DIS</th>\n",
       "      <th>RAD</th>\n",
       "      <th>TAX</th>\n",
       "      <th>PTRATIO</th>\n",
       "      <th>B</th>\n",
       "      <th>LSTAT</th>\n",
       "    </tr>\n",
       "  </thead>\n",
       "  <tbody>\n",
       "    <tr>\n",
       "      <th>OLS</th>\n",
       "      <td>22.5</td>\n",
       "      <td>-0.92</td>\n",
       "      <td>1.08</td>\n",
       "      <td>0.143</td>\n",
       "      <td>0.682</td>\n",
       "      <td>-2.06</td>\n",
       "      <td>2.67</td>\n",
       "      <td>0.0211</td>\n",
       "      <td>-3.1</td>\n",
       "      <td>2.66</td>\n",
       "      <td>-2.08</td>\n",
       "      <td>-2.06</td>\n",
       "      <td>0.857</td>\n",
       "      <td>-3.75</td>\n",
       "    </tr>\n",
       "    <tr>\n",
       "      <th>LASSO</th>\n",
       "      <td>22.5</td>\n",
       "      <td>-0.537</td>\n",
       "      <td>0.596</td>\n",
       "      <td>-0.0366</td>\n",
       "      <td>0.65</td>\n",
       "      <td>-1.43</td>\n",
       "      <td>2.87</td>\n",
       "      <td>-0</td>\n",
       "      <td>-2.21</td>\n",
       "      <td>0.755</td>\n",
       "      <td>-0.479</td>\n",
       "      <td>-1.88</td>\n",
       "      <td>0.74</td>\n",
       "      <td>-3.73</td>\n",
       "    </tr>\n",
       "  </tbody>\n",
       "</table>\n",
       "</div>"
      ],
      "text/plain": [
       "       Intercept   CRIM    ZN   INDUS  CHAS   NOX   RM    AGE   DIS   RAD  \\\n",
       "OLS         22.5  -0.92  1.08   0.143 0.682 -2.06 2.67 0.0211  -3.1  2.66   \n",
       "LASSO       22.5 -0.537 0.596 -0.0366  0.65 -1.43 2.87     -0 -2.21 0.755   \n",
       "\n",
       "         TAX  PTRATIO     B  LSTAT  \n",
       "OLS    -2.08    -2.06 0.857  -3.75  \n",
       "LASSO -0.479    -1.88  0.74  -3.73  "
      ]
     },
     "execution_count": 55,
     "metadata": {},
     "output_type": "execute_result"
    }
   ],
   "source": [
    "# Abaixo podemos verificar que, ao penalizar os estimadores com um alpha > 0, quase todos os coeficientes \n",
    "#ficaram com valores menores em módulo. O coeficiente de AGE ficou igual a 0, ou seja, o algoritmo eliminou um \n",
    "#parâmetro da regressão.\n",
    "\n",
    "# In[10]:\n",
    "coef_df['LASSO'] = np.append([las.intercept_], las.coef_) \n",
    "coef_df.T"
   ]
  },
  {
   "cell_type": "markdown",
   "metadata": {
    "collapsed": true
   },
   "source": [
    "### 3.5 LASSO: Validação Cruzada 5-fold"
   ]
  },
  {
   "cell_type": "code",
   "execution_count": 56,
   "metadata": {},
   "outputs": [
    {
     "name": "stdout",
     "output_type": "stream",
     "text": [
      "[Fold 1] α: 0.13, R²: 0.69\n",
      "[Fold 2] α: 0.13, R²: 0.74\n",
      "[Fold 3] α: 0.13, R²: 0.58\n",
      "[Fold 4] α: 0.13, R²: 0.06\n",
      "[Fold 5] α: 0.13, R²: -0.04\n"
     ]
    },
    {
     "data": {
      "text/html": [
       "<div>\n",
       "<style>\n",
       "    .dataframe thead tr:only-child th {\n",
       "        text-align: right;\n",
       "    }\n",
       "\n",
       "    .dataframe thead th {\n",
       "        text-align: left;\n",
       "    }\n",
       "\n",
       "    .dataframe tbody tr th {\n",
       "        vertical-align: top;\n",
       "    }\n",
       "</style>\n",
       "<table border=\"1\" class=\"dataframe\">\n",
       "  <thead>\n",
       "    <tr style=\"text-align: right;\">\n",
       "      <th></th>\n",
       "      <th>OLS</th>\n",
       "      <th>OLS - CV</th>\n",
       "      <th>LASSO</th>\n",
       "      <th>LASSO - CV</th>\n",
       "    </tr>\n",
       "  </thead>\n",
       "  <tbody>\n",
       "    <tr>\n",
       "      <th>MSE</th>\n",
       "      <td>21.9</td>\n",
       "      <td>37.2</td>\n",
       "      <td>22.7</td>\n",
       "      <td>35.5</td>\n",
       "    </tr>\n",
       "    <tr>\n",
       "      <th>R²</th>\n",
       "      <td>0.741</td>\n",
       "      <td>0.56</td>\n",
       "      <td>0.732</td>\n",
       "      <td>0.58</td>\n",
       "    </tr>\n",
       "  </tbody>\n",
       "</table>\n",
       "</div>"
      ],
      "text/plain": [
       "      OLS  OLS - CV  LASSO  LASSO - CV\n",
       "MSE  21.9      37.2   22.7        35.5\n",
       "R²  0.741      0.56  0.732        0.58"
      ]
     },
     "execution_count": 56,
     "metadata": {},
     "output_type": "execute_result"
    }
   ],
   "source": [
    "# ## Validação Cruzada - LASSO\n",
    "# Faremos também um teste de validação cruzada, dividindo os dados em 5 grupos.\n",
    "# In[11]:\n",
    "kf = KFold(n_splits=5)\n",
    "p = np.zeros_like(y)\n",
    "for k, (train, test) in enumerate(kf.split(x)):\n",
    "    las.fit(x.loc[train], y[train])\n",
    "    p[test] = las.predict(x.loc[test])\n",
    "    print(\"[Fold {0}] \\u03b1: {1:.2f}, R\\u00b2: {2:.2f}\".\n",
    "          format(k+1, alpha, las.score(x.loc[test], y[test])))\n",
    "\n",
    "mse_lasso_cv = mean_squared_error(y, p)\n",
    "r2_lasso_cv = r2_score(y, p)\n",
    "\n",
    "result_df['LASSO - CV'] = [mse_lasso_cv, r2_lasso_cv]\n",
    "result_df"
   ]
  },
  {
   "cell_type": "code",
   "execution_count": 57,
   "metadata": {},
   "outputs": [
    {
     "data": {
      "image/png": "[encoded data removed]",
      "text/plain": [
       "<matplotlib.figure.Figure at 0x262d53352e8>"
      ]
     },
     "metadata": {},
     "output_type": "display_data"
    }
   ],
   "source": [
    "# In[12]:\n",
    "scatterPlot(y, p)"
   ]
  },
  {
   "cell_type": "markdown",
   "metadata": {},
   "source": [
    "#### É possível verificar que o R^2 continua baixo para os dois últimos grupos, porém o R^2 geral da validação cruzada foi maior que o da validação cruzada no método de mínimos quadrados ordinários."
   ]
  },
  {
   "cell_type": "markdown",
   "metadata": {
    "collapsed": true
   },
   "source": [
    "### 3.6 LASSO: Comportamento de cada coeficiente da regressão de acordo com a variação do parâmetro de regularização $\\alpha$."
   ]
  },
  {
   "cell_type": "code",
   "execution_count": 58,
   "metadata": {},
   "outputs": [
    {
     "data": {
      "image/png": "[encoded data removed]",
      "text/plain": [
       "<matplotlib.figure.Figure at 0x262d4739d30>"
      ]
     },
     "metadata": {},
     "output_type": "display_data"
    }
   ],
   "source": [
    "# In[13]:\n",
    "las = Lasso()\n",
    "alphas = np.logspace(-3, 1.5, 1000)\n",
    "alphas, coefs, _ = las.path(x, y, alphas=alphas)\n",
    "\n",
    "fig, ax = plt.subplots()\n",
    "ax.plot(alphas, coefs.T)\n",
    "ax.set_xscale('log')\n",
    "ax.set_xlim(alphas.max(), alphas.min())\n",
    "plt.vlines(alpha, coefs.min(), coefs.max())\n",
    "plt.xlabel(\"Alpha\")\n",
    "plt.ylabel(\"Coeficientes\")\n",
    "\n",
    "plt.show()"
   ]
  },
  {
   "cell_type": "markdown",
   "metadata": {},
   "source": [
    "Quando $\\alpha$ é muito grande, a penalização é significativa e todos os coeficientes ficam muito próximos de 0. \n",
    "A medida que o $\\alpha$ tende a 0, os coeficientes se estabilizam e tendem aos valores calculados pelo método dos mínimos quadrados ordinários."
   ]
  },
  {
   "cell_type": "markdown",
   "metadata": {
    "collapsed": true
   },
   "source": [
    "### 3.7 LASSO: seleção automática do $\\alpha$"
   ]
  },
  {
   "cell_type": "code",
   "execution_count": 59,
   "metadata": {},
   "outputs": [
    {
     "name": "stdout",
     "output_type": "stream",
     "text": [
      "[Fold 1] α: 0.76, R²: 0.73\n",
      "[Fold 2] α: 0.66, R²: 0.70\n",
      "[Fold 3] α: 0.67, R²: 0.40\n",
      "[Fold 4] α: 0.02, R²: 0.08\n",
      "[Fold 5] α: 0.16, R²: -0.03\n"
     ]
    },
    {
     "data": {
      "text/html": [
       "<div>\n",
       "<style>\n",
       "    .dataframe thead tr:only-child th {\n",
       "        text-align: right;\n",
       "    }\n",
       "\n",
       "    .dataframe thead th {\n",
       "        text-align: left;\n",
       "    }\n",
       "\n",
       "    .dataframe tbody tr th {\n",
       "        vertical-align: top;\n",
       "    }\n",
       "</style>\n",
       "<table border=\"1\" class=\"dataframe\">\n",
       "  <thead>\n",
       "    <tr style=\"text-align: right;\">\n",
       "      <th></th>\n",
       "      <th>OLS</th>\n",
       "      <th>OLS - CV</th>\n",
       "      <th>LASSO</th>\n",
       "      <th>LASSO - CV</th>\n",
       "      <th>LASSO - CV (α selection)</th>\n",
       "    </tr>\n",
       "  </thead>\n",
       "  <tbody>\n",
       "    <tr>\n",
       "      <th>MSE</th>\n",
       "      <td>21.9</td>\n",
       "      <td>37.2</td>\n",
       "      <td>22.7</td>\n",
       "      <td>35.5</td>\n",
       "      <td>38.6</td>\n",
       "    </tr>\n",
       "    <tr>\n",
       "      <th>R²</th>\n",
       "      <td>0.741</td>\n",
       "      <td>0.56</td>\n",
       "      <td>0.732</td>\n",
       "      <td>0.58</td>\n",
       "      <td>0.542</td>\n",
       "    </tr>\n",
       "  </tbody>\n",
       "</table>\n",
       "</div>"
      ],
      "text/plain": [
       "      OLS  OLS - CV  LASSO  LASSO - CV  LASSO - CV (α selection)\n",
       "MSE  21.9      37.2   22.7        35.5                      38.6\n",
       "R²  0.741      0.56  0.732        0.58                     0.542"
      ]
     },
     "execution_count": 59,
     "metadata": {},
     "output_type": "execute_result"
    }
   ],
   "source": [
    "# Faremos uma implementação de validação cruzada para encontrar o melhor parâmetro de regularização $\\alpha$ de \n",
    "#acordo com os dados da amostra.\n",
    "\n",
    "# In[14]:\n",
    "from sklearn.linear_model import LassoCV\n",
    "\n",
    "las = LassoCV()\n",
    "kf = KFold(n_splits=5)\n",
    "p = np.zeros_like(y)\n",
    "\n",
    "for k, (train, test) in enumerate(kf.split(x)):\n",
    "    las.fit(x.loc[train], y[train])\n",
    "    p[test] = las.predict(x.loc[test])\n",
    "    print(\"[Fold {0}] \\u03b1: {1:.2f}, R\\u00b2: {2:.2f}\".\n",
    "          format(k+1, las.alpha_, las.score(x.loc[test], y[test])))\n",
    "\n",
    "mse_lasso_cv_2 = mean_squared_error(y, p)\n",
    "r2_lasso_cv_2 = r2_score(y, p)\n",
    "\n",
    "result_df['LASSO - CV (\\u03b1 selection)'] = [mse_lasso_cv_2, r2_lasso_cv_2]\n",
    "result_df"
   ]
  },
  {
   "cell_type": "code",
   "execution_count": 60,
   "metadata": {},
   "outputs": [
    {
     "data": {
      "image/png": "[encoded data removed]",
      "text/plain": [
       "<matplotlib.figure.Figure at 0x262d52f7780>"
      ]
     },
     "metadata": {},
     "output_type": "display_data"
    }
   ],
   "source": [
    "# In[15]:\n",
    "\n",
    "scatterPlot(y, p)"
   ]
  },
  {
   "cell_type": "markdown",
   "metadata": {},
   "source": [
    "## 4. Regressão Ridge\n",
    "\n",
    "Utilizaremos a técnica Ridge com parâmetro de regularização $\\alpha = 0.13$ para ajustar um modelo de regressão"
   ]
  },
  {
   "cell_type": "markdown",
   "metadata": {},
   "source": [
    "### 4.1 Ridge: Ajustando o Modelo "
   ]
  },
  {
   "cell_type": "code",
   "execution_count": 61,
   "metadata": {},
   "outputs": [
    {
     "data": {
      "text/html": [
       "<div>\n",
       "<style>\n",
       "    .dataframe thead tr:only-child th {\n",
       "        text-align: right;\n",
       "    }\n",
       "\n",
       "    .dataframe thead th {\n",
       "        text-align: left;\n",
       "    }\n",
       "\n",
       "    .dataframe tbody tr th {\n",
       "        vertical-align: top;\n",
       "    }\n",
       "</style>\n",
       "<table border=\"1\" class=\"dataframe\">\n",
       "  <thead>\n",
       "    <tr style=\"text-align: right;\">\n",
       "      <th></th>\n",
       "      <th>Intercept</th>\n",
       "      <th>CRIM</th>\n",
       "      <th>ZN</th>\n",
       "      <th>INDUS</th>\n",
       "      <th>CHAS</th>\n",
       "      <th>NOX</th>\n",
       "      <th>RM</th>\n",
       "      <th>AGE</th>\n",
       "      <th>DIS</th>\n",
       "      <th>RAD</th>\n",
       "      <th>TAX</th>\n",
       "      <th>PTRATIO</th>\n",
       "      <th>B</th>\n",
       "      <th>LSTAT</th>\n",
       "    </tr>\n",
       "  </thead>\n",
       "  <tbody>\n",
       "    <tr>\n",
       "      <th>RIDGE</th>\n",
       "      <td>22.5</td>\n",
       "      <td>-0.883</td>\n",
       "      <td>1.01</td>\n",
       "      <td>0.0386</td>\n",
       "      <td>0.697</td>\n",
       "      <td>-1.93</td>\n",
       "      <td>2.71</td>\n",
       "      <td>-0.00781</td>\n",
       "      <td>-2.98</td>\n",
       "      <td>2.34</td>\n",
       "      <td>-1.78</td>\n",
       "      <td>-2.02</td>\n",
       "      <td>0.854</td>\n",
       "      <td>-3.69</td>\n",
       "    </tr>\n",
       "  </tbody>\n",
       "</table>\n",
       "</div>"
      ],
      "text/plain": [
       "       Intercept   CRIM   ZN  INDUS  CHAS   NOX   RM      AGE   DIS  RAD  \\\n",
       "RIDGE       22.5 -0.883 1.01 0.0386 0.697 -1.93 2.71 -0.00781 -2.98 2.34   \n",
       "\n",
       "        TAX  PTRATIO     B  LSTAT  \n",
       "RIDGE -1.78    -2.02 0.854  -3.69  "
      ]
     },
     "execution_count": 61,
     "metadata": {},
     "output_type": "execute_result"
    }
   ],
   "source": [
    "# ## Regressão Ridge\n",
    "# \n",
    "# In[8]:\n",
    "from sklearn.linear_model import Ridge\n",
    "\n",
    "alpha = 5\n",
    "\n",
    "rdg = Ridge(alpha=alpha)\n",
    "rdg.fit(x, y)\n",
    "\n",
    "# Apresentamos abaixo os coeficientes calculados.\n",
    "coef_df2 = pd.DataFrame(index=np.append(['Intercept'], boston.feature_names))\n",
    "coef_df2['RIDGE'] = np.append([rdg.intercept_], rdg.coef_) \n",
    "coef_df2.T"
   ]
  },
  {
   "cell_type": "markdown",
   "metadata": {
    "collapsed": true
   },
   "source": [
    "### 4.2 Ridge: Calculando estatística de ajuste"
   ]
  },
  {
   "cell_type": "code",
   "execution_count": 62,
   "metadata": {},
   "outputs": [
    {
     "data": {
      "text/html": [
       "<div>\n",
       "<style>\n",
       "    .dataframe thead tr:only-child th {\n",
       "        text-align: right;\n",
       "    }\n",
       "\n",
       "    .dataframe thead th {\n",
       "        text-align: left;\n",
       "    }\n",
       "\n",
       "    .dataframe tbody tr th {\n",
       "        vertical-align: top;\n",
       "    }\n",
       "</style>\n",
       "<table border=\"1\" class=\"dataframe\">\n",
       "  <thead>\n",
       "    <tr style=\"text-align: right;\">\n",
       "      <th></th>\n",
       "      <th>OLS</th>\n",
       "      <th>OLS - CV</th>\n",
       "      <th>LASSO</th>\n",
       "      <th>LASSO - CV</th>\n",
       "      <th>LASSO - CV (α selection)</th>\n",
       "      <th>RIDGE</th>\n",
       "    </tr>\n",
       "  </thead>\n",
       "  <tbody>\n",
       "    <tr>\n",
       "      <th>MSE</th>\n",
       "      <td>21.9</td>\n",
       "      <td>37.2</td>\n",
       "      <td>22.7</td>\n",
       "      <td>35.5</td>\n",
       "      <td>38.6</td>\n",
       "      <td>21.9</td>\n",
       "    </tr>\n",
       "    <tr>\n",
       "      <th>R²</th>\n",
       "      <td>0.741</td>\n",
       "      <td>0.56</td>\n",
       "      <td>0.732</td>\n",
       "      <td>0.58</td>\n",
       "      <td>0.542</td>\n",
       "      <td>0.74</td>\n",
       "    </tr>\n",
       "  </tbody>\n",
       "</table>\n",
       "</div>"
      ],
      "text/plain": [
       "      OLS  OLS - CV  LASSO  LASSO - CV  LASSO - CV (α selection)  RIDGE\n",
       "MSE  21.9      37.2   22.7        35.5                      38.6   21.9\n",
       "R²  0.741      0.56  0.732        0.58                     0.542   0.74"
      ]
     },
     "execution_count": 62,
     "metadata": {},
     "output_type": "execute_result"
    }
   ],
   "source": [
    "mse_ridge = mean_squared_error(y, rdg.predict(x))\n",
    "r2_ridge = r2_score(y, rdg.predict(x))\n",
    "\n",
    "result_df['RIDGE'] = [mse_ridge, r2_ridge]\n",
    "result_df\n",
    "\n",
    "#print(mse_ridge,r2_ridge)"
   ]
  },
  {
   "cell_type": "markdown",
   "metadata": {
    "collapsed": true
   },
   "source": [
    "### 4.3 Ridge: Gráfico Real X Previsto"
   ]
  },
  {
   "cell_type": "code",
   "execution_count": 63,
   "metadata": {},
   "outputs": [
    {
     "data": {
      "image/png": "[encoded data removed]",
      "text/plain": [
       "<matplotlib.figure.Figure at 0x262d49fd828>"
      ]
     },
     "metadata": {},
     "output_type": "display_data"
    }
   ],
   "source": [
    "# In[9]:\n",
    "scatterPlot(y, las.predict(x))"
   ]
  },
  {
   "cell_type": "markdown",
   "metadata": {
    "collapsed": true
   },
   "source": [
    "### 4.4 Comparação dos coeficientes: Regressão Linear X LASSO X Ridge"
   ]
  },
  {
   "cell_type": "code",
   "execution_count": 64,
   "metadata": {},
   "outputs": [
    {
     "data": {
      "text/html": [
       "<div>\n",
       "<style>\n",
       "    .dataframe thead tr:only-child th {\n",
       "        text-align: right;\n",
       "    }\n",
       "\n",
       "    .dataframe thead th {\n",
       "        text-align: left;\n",
       "    }\n",
       "\n",
       "    .dataframe tbody tr th {\n",
       "        vertical-align: top;\n",
       "    }\n",
       "</style>\n",
       "<table border=\"1\" class=\"dataframe\">\n",
       "  <thead>\n",
       "    <tr style=\"text-align: right;\">\n",
       "      <th></th>\n",
       "      <th>Intercept</th>\n",
       "      <th>CRIM</th>\n",
       "      <th>ZN</th>\n",
       "      <th>INDUS</th>\n",
       "      <th>CHAS</th>\n",
       "      <th>NOX</th>\n",
       "      <th>RM</th>\n",
       "      <th>AGE</th>\n",
       "      <th>DIS</th>\n",
       "      <th>RAD</th>\n",
       "      <th>TAX</th>\n",
       "      <th>PTRATIO</th>\n",
       "      <th>B</th>\n",
       "      <th>LSTAT</th>\n",
       "    </tr>\n",
       "  </thead>\n",
       "  <tbody>\n",
       "    <tr>\n",
       "      <th>OLS</th>\n",
       "      <td>22.5</td>\n",
       "      <td>-0.92</td>\n",
       "      <td>1.08</td>\n",
       "      <td>0.143</td>\n",
       "      <td>0.682</td>\n",
       "      <td>-2.06</td>\n",
       "      <td>2.67</td>\n",
       "      <td>0.0211</td>\n",
       "      <td>-3.1</td>\n",
       "      <td>2.66</td>\n",
       "      <td>-2.08</td>\n",
       "      <td>-2.06</td>\n",
       "      <td>0.857</td>\n",
       "      <td>-3.75</td>\n",
       "    </tr>\n",
       "    <tr>\n",
       "      <th>LASSO</th>\n",
       "      <td>22.5</td>\n",
       "      <td>-0.537</td>\n",
       "      <td>0.596</td>\n",
       "      <td>-0.0366</td>\n",
       "      <td>0.65</td>\n",
       "      <td>-1.43</td>\n",
       "      <td>2.87</td>\n",
       "      <td>-0</td>\n",
       "      <td>-2.21</td>\n",
       "      <td>0.755</td>\n",
       "      <td>-0.479</td>\n",
       "      <td>-1.88</td>\n",
       "      <td>0.74</td>\n",
       "      <td>-3.73</td>\n",
       "    </tr>\n",
       "    <tr>\n",
       "      <th>RIDGE</th>\n",
       "      <td>22.5</td>\n",
       "      <td>-0.883</td>\n",
       "      <td>1.01</td>\n",
       "      <td>0.0386</td>\n",
       "      <td>0.697</td>\n",
       "      <td>-1.93</td>\n",
       "      <td>2.71</td>\n",
       "      <td>-0.00781</td>\n",
       "      <td>-2.98</td>\n",
       "      <td>2.34</td>\n",
       "      <td>-1.78</td>\n",
       "      <td>-2.02</td>\n",
       "      <td>0.854</td>\n",
       "      <td>-3.69</td>\n",
       "    </tr>\n",
       "  </tbody>\n",
       "</table>\n",
       "</div>"
      ],
      "text/plain": [
       "       Intercept   CRIM    ZN   INDUS  CHAS   NOX   RM      AGE   DIS   RAD  \\\n",
       "OLS         22.5  -0.92  1.08   0.143 0.682 -2.06 2.67   0.0211  -3.1  2.66   \n",
       "LASSO       22.5 -0.537 0.596 -0.0366  0.65 -1.43 2.87       -0 -2.21 0.755   \n",
       "RIDGE       22.5 -0.883  1.01  0.0386 0.697 -1.93 2.71 -0.00781 -2.98  2.34   \n",
       "\n",
       "         TAX  PTRATIO     B  LSTAT  \n",
       "OLS    -2.08    -2.06 0.857  -3.75  \n",
       "LASSO -0.479    -1.88  0.74  -3.73  \n",
       "RIDGE  -1.78    -2.02 0.854  -3.69  "
      ]
     },
     "execution_count": 64,
     "metadata": {},
     "output_type": "execute_result"
    }
   ],
   "source": [
    "# Abaixo podemos verificar que, ao penalizar os estimadores com um alpha > 0, quase todos os coeficientes \n",
    "#ficaram com valores menores em módulo. O coeficiente de AGE ficou igual a 0, ou seja, o algoritmo eliminou um \n",
    "#parâmetro da regressão.\n",
    "\n",
    "# In[10]:\n",
    "coef_df['RIDGE'] = np.append([rdg.intercept_], rdg.coef_) \n",
    "coef_df.T"
   ]
  },
  {
   "cell_type": "markdown",
   "metadata": {
    "collapsed": true
   },
   "source": [
    "### 4.5 Ridge: Validação Cruzada 5-fold"
   ]
  },
  {
   "cell_type": "code",
   "execution_count": 65,
   "metadata": {},
   "outputs": [
    {
     "name": "stdout",
     "output_type": "stream",
     "text": [
      "[Fold 1] α: 5.00, R²: 0.66\n",
      "[Fold 2] α: 5.00, R²: 0.73\n",
      "[Fold 3] α: 5.00, R²: 0.59\n",
      "[Fold 4] α: 5.00, R²: 0.09\n",
      "[Fold 5] α: 5.00, R²: -0.15\n"
     ]
    },
    {
     "data": {
      "text/html": [
       "<div>\n",
       "<style>\n",
       "    .dataframe thead tr:only-child th {\n",
       "        text-align: right;\n",
       "    }\n",
       "\n",
       "    .dataframe thead th {\n",
       "        text-align: left;\n",
       "    }\n",
       "\n",
       "    .dataframe tbody tr th {\n",
       "        vertical-align: top;\n",
       "    }\n",
       "</style>\n",
       "<table border=\"1\" class=\"dataframe\">\n",
       "  <thead>\n",
       "    <tr style=\"text-align: right;\">\n",
       "      <th></th>\n",
       "      <th>OLS</th>\n",
       "      <th>OLS - CV</th>\n",
       "      <th>LASSO</th>\n",
       "      <th>LASSO - CV</th>\n",
       "      <th>LASSO - CV (α selection)</th>\n",
       "      <th>RIDGE</th>\n",
       "      <th>RIDGE - CV</th>\n",
       "    </tr>\n",
       "  </thead>\n",
       "  <tbody>\n",
       "    <tr>\n",
       "      <th>MSE</th>\n",
       "      <td>21.9</td>\n",
       "      <td>37.2</td>\n",
       "      <td>22.7</td>\n",
       "      <td>35.5</td>\n",
       "      <td>38.6</td>\n",
       "      <td>21.9</td>\n",
       "      <td>35.9</td>\n",
       "    </tr>\n",
       "    <tr>\n",
       "      <th>R²</th>\n",
       "      <td>0.741</td>\n",
       "      <td>0.56</td>\n",
       "      <td>0.732</td>\n",
       "      <td>0.58</td>\n",
       "      <td>0.542</td>\n",
       "      <td>0.74</td>\n",
       "      <td>0.575</td>\n",
       "    </tr>\n",
       "  </tbody>\n",
       "</table>\n",
       "</div>"
      ],
      "text/plain": [
       "      OLS  OLS - CV  LASSO  LASSO - CV  LASSO - CV (α selection)  RIDGE  \\\n",
       "MSE  21.9      37.2   22.7        35.5                      38.6   21.9   \n",
       "R²  0.741      0.56  0.732        0.58                     0.542   0.74   \n",
       "\n",
       "     RIDGE - CV  \n",
       "MSE        35.9  \n",
       "R²        0.575  "
      ]
     },
     "execution_count": 65,
     "metadata": {},
     "output_type": "execute_result"
    }
   ],
   "source": [
    "# ## Validação Cruzada - LASSO\n",
    "# Faremos também um teste de validação cruzada, dividindo os dados em 5 grupos.\n",
    "# In[11]:\n",
    "kf = KFold(n_splits=5)\n",
    "p = np.zeros_like(y)\n",
    "for k, (train, test) in enumerate(kf.split(x)):\n",
    "    rdg.fit(x.loc[train], y[train])\n",
    "    p[test] = rdg.predict(x.loc[test])\n",
    "    print(\"[Fold {0}] \\u03b1: {1:.2f}, R\\u00b2: {2:.2f}\".\n",
    "          format(k+1, alpha, rdg.score(x.loc[test], y[test])))\n",
    "\n",
    "mse_ridge_cv = mean_squared_error(y, p)\n",
    "r2_ridge_cv = r2_score(y, p)\n",
    "\n",
    "result_df['RIDGE - CV'] = [mse_ridge_cv, r2_ridge_cv]\n",
    "result_df"
   ]
  },
  {
   "cell_type": "code",
   "execution_count": 66,
   "metadata": {
    "scrolled": true
   },
   "outputs": [
    {
     "data": {
      "image/png": "[encoded data removed]",
      "text/plain": [
       "<matplotlib.figure.Figure at 0x262d5583ac8>"
      ]
     },
     "metadata": {},
     "output_type": "display_data"
    }
   ],
   "source": [
    "# In[12]:\n",
    "scatterPlot(y, p)"
   ]
  },
  {
   "cell_type": "markdown",
   "metadata": {
    "collapsed": true
   },
   "source": [
    "### 4.6 Ridge: Comportamento de cada coeficiente da regressão de acordo com a variação do parâmetro de regularização $\\alpha$."
   ]
  },
  {
   "cell_type": "code",
   "execution_count": 67,
   "metadata": {},
   "outputs": [
    {
     "data": {
      "image/png": "[encoded data removed]",
      "text/plain": [
       "<matplotlib.figure.Figure at 0x262d6696e10>"
      ]
     },
     "metadata": {},
     "output_type": "display_data"
    }
   ],
   "source": [
    "# In[13]:\n",
    "rdg = Ridge()\n",
    "alphas = np.logspace(-4, 2, 200)\n",
    "alphas, coefs, _ = las.path(x, y, alphas=alphas)\n",
    "\n",
    "fig, ax = plt.subplots()\n",
    "ax.plot(alphas, coefs.T)\n",
    "ax.set_xscale('log')\n",
    "ax.set_xlim(alphas.max(), alphas.min())\n",
    "plt.vlines(alpha, coefs.min(), coefs.max())\n",
    "plt.xlabel(\"Alpha\")\n",
    "plt.ylabel(\"Coeficientes\")\n",
    "\n",
    "plt.show()"
   ]
  },
  {
   "cell_type": "markdown",
   "metadata": {},
   "source": [
    "Quando $\\alpha$ é muito grande, a penalização é significativa e todos os coeficientes ficam muito próximos de 0. \n",
    "A medida que o $\\alpha$ tende a 0, os coeficientes se estabilizam e tendem aos valores calculados pelo método dos mínimos quadrados ordinários."
   ]
  },
  {
   "cell_type": "markdown",
   "metadata": {},
   "source": [
    "### Conclusão: <br><br> Apesar de termos um ajuste pior da amostra de treino utilizando LASSO, o modelo se comporta melhor nos dados fora da amostra."
   ]
  },
  {
   "cell_type": "markdown",
   "metadata": {},
   "source": [
    "Referência\n",
    "http://prorum.com/index.php/2541/como-implementar-algoritmo-lasso-em-python-compara-lo-ao-ols"
   ]
  }
 ],
 "metadata": {
  "kernelspec": {
   "display_name": "Python 3",
   "language": "python",
   "name": "python3"
  },
  "language_info": {
   "codemirror_mode": {
    "name": "ipython",
    "version": 3
   },
   "file_extension": ".py",
   "mimetype": "text/x-python",
   "name": "python",
   "nbconvert_exporter": "python",
   "pygments_lexer": "ipython3",
   "version": "3.6.3"
  }
 },
 "nbformat": 4,
 "nbformat_minor": 2
}

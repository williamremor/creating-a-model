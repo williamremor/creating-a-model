{
 "cells": [
  {
   "cell_type": "code",
   "execution_count": null,
   "metadata": {
    "collapsed": true
   },
   "outputs": [],
   "source": [
    "logistic regression outputs probabilities\n",
    "* if the probability ‘p’ is  greater than 0.5: the data is labeled ‘1’\n",
    "* if the probability ‘p’ is  less than 0.5: the data is labeled ‘0’"
   ]
  },
  {
   "cell_type": "code",
   "execution_count": null,
   "metadata": {},
   "outputs": [],
   "source": [
    "logreg =  LogisticRegression()\n",
    "X_train,  X_test, y_train,  y_test =  train_test_split(X, y, test_size=0.4,  random_state=42)\n",
    "logreg.fit(X_train,  y_train)\n",
    "y_pred =  logreg.predict(X_test)"
   ]
  },
  {
   "cell_type": "code",
   "execution_count": 42,
   "metadata": {},
   "outputs": [
    {
     "name": "stderr",
     "output_type": "stream",
     "text": [
      "C:\\Users\\tati\\Anaconda3\\envs\\tera-fev2018\\lib\\site-packages\\statsmodels\\compat\\pandas.py:56: FutureWarning: The pandas.core.datetools module is deprecated and will be removed in a future version. Please use the pandas.tseries module instead.\n",
      "  from pandas.core import datetools\n"
     ]
    }
   ],
   "source": [
    "from os import path\n",
    "import numpy as np\n",
    "import pandas as pd\n",
    "pd.set_option('display.max_columns', 500)\n",
    "\n",
    "import matplotlib as mpl\n",
    "import matplotlib.pyplot as plt\n",
    "%matplotlib inline\n",
    "import seaborn as sns\n",
    "\n",
    "from sklearn.preprocessing import StandardScaler\n",
    "\n",
    "import statsmodels.formula.api as smf\n",
    "\n",
    "from  sklearn.linear_model  import  LogisticRegression\n",
    "from sklearn.model_selection import train_test_split\n",
    "from sklearn.metrics import classification_report\n",
    "from sklearn.metrics import accuracy_score, precision_score, recall_score, confusion_matrix, precision_recall_curve\n",
    "from sklearn.metrics import roc_auc_score\n",
    "from sklearn.metrics import classification_report\n",
    "from sklearn.metrics import roc_curve, auc\n",
    "import statsmodels.api as sm\n",
    "import pylab as pl"
   ]
  },
  {
   "cell_type": "code",
   "execution_count": 3,
   "metadata": {},
   "outputs": [],
   "source": [
    "columns = ['Age','Workclass','fnlgwt','Education','Education num','Marital Status',\n",
    "           'Occupation','Relationship','Race','Sex','Capital Gain','Capital Loss',\n",
    "           'Hours/Week','Native country','Income']\n",
    "\n",
    "trainfile = path.join(\"data\", \"adult-training.csv\")\n",
    "train = pd.read_csv(trainfile, names=columns)\n",
    "testfile = path.join(\"data\", \"adult-test.csv\")\n",
    "test  = pd.read_csv(testfile, names=columns, skiprows=1)"
   ]
  },
  {
   "cell_type": "code",
   "execution_count": 4,
   "metadata": {},
   "outputs": [
    {
     "data": {
      "text/html": [
       "<div>\n",
       "<style scoped>\n",
       "    .dataframe tbody tr th:only-of-type {\n",
       "        vertical-align: middle;\n",
       "    }\n",
       "\n",
       "    .dataframe tbody tr th {\n",
       "        vertical-align: top;\n",
       "    }\n",
       "\n",
       "    .dataframe thead th {\n",
       "        text-align: right;\n",
       "    }\n",
       "</style>\n",
       "<table border=\"1\" class=\"dataframe\">\n",
       "  <thead>\n",
       "    <tr style=\"text-align: right;\">\n",
       "      <th></th>\n",
       "      <th>Age</th>\n",
       "      <th>Workclass</th>\n",
       "      <th>fnlgwt</th>\n",
       "      <th>Education</th>\n",
       "      <th>Education num</th>\n",
       "      <th>Marital Status</th>\n",
       "      <th>Occupation</th>\n",
       "      <th>Relationship</th>\n",
       "      <th>Race</th>\n",
       "      <th>Sex</th>\n",
       "      <th>Capital Gain</th>\n",
       "      <th>Capital Loss</th>\n",
       "      <th>Hours/Week</th>\n",
       "      <th>Native country</th>\n",
       "      <th>Income</th>\n",
       "    </tr>\n",
       "  </thead>\n",
       "  <tbody>\n",
       "    <tr>\n",
       "      <th>0</th>\n",
       "      <td>39</td>\n",
       "      <td>State-gov</td>\n",
       "      <td>77516</td>\n",
       "      <td>Bachelors</td>\n",
       "      <td>13</td>\n",
       "      <td>Never-married</td>\n",
       "      <td>Adm-clerical</td>\n",
       "      <td>Not-in-family</td>\n",
       "      <td>White</td>\n",
       "      <td>Male</td>\n",
       "      <td>2174</td>\n",
       "      <td>0</td>\n",
       "      <td>40</td>\n",
       "      <td>United-States</td>\n",
       "      <td>&lt;=50K</td>\n",
       "    </tr>\n",
       "    <tr>\n",
       "      <th>1</th>\n",
       "      <td>50</td>\n",
       "      <td>Self-emp-not-inc</td>\n",
       "      <td>83311</td>\n",
       "      <td>Bachelors</td>\n",
       "      <td>13</td>\n",
       "      <td>Married-civ-spouse</td>\n",
       "      <td>Exec-managerial</td>\n",
       "      <td>Husband</td>\n",
       "      <td>White</td>\n",
       "      <td>Male</td>\n",
       "      <td>0</td>\n",
       "      <td>0</td>\n",
       "      <td>13</td>\n",
       "      <td>United-States</td>\n",
       "      <td>&lt;=50K</td>\n",
       "    </tr>\n",
       "    <tr>\n",
       "      <th>2</th>\n",
       "      <td>38</td>\n",
       "      <td>Private</td>\n",
       "      <td>215646</td>\n",
       "      <td>HS-grad</td>\n",
       "      <td>9</td>\n",
       "      <td>Divorced</td>\n",
       "      <td>Handlers-cleaners</td>\n",
       "      <td>Not-in-family</td>\n",
       "      <td>White</td>\n",
       "      <td>Male</td>\n",
       "      <td>0</td>\n",
       "      <td>0</td>\n",
       "      <td>40</td>\n",
       "      <td>United-States</td>\n",
       "      <td>&lt;=50K</td>\n",
       "    </tr>\n",
       "    <tr>\n",
       "      <th>3</th>\n",
       "      <td>53</td>\n",
       "      <td>Private</td>\n",
       "      <td>234721</td>\n",
       "      <td>11th</td>\n",
       "      <td>7</td>\n",
       "      <td>Married-civ-spouse</td>\n",
       "      <td>Handlers-cleaners</td>\n",
       "      <td>Husband</td>\n",
       "      <td>Black</td>\n",
       "      <td>Male</td>\n",
       "      <td>0</td>\n",
       "      <td>0</td>\n",
       "      <td>40</td>\n",
       "      <td>United-States</td>\n",
       "      <td>&lt;=50K</td>\n",
       "    </tr>\n",
       "    <tr>\n",
       "      <th>4</th>\n",
       "      <td>28</td>\n",
       "      <td>Private</td>\n",
       "      <td>338409</td>\n",
       "      <td>Bachelors</td>\n",
       "      <td>13</td>\n",
       "      <td>Married-civ-spouse</td>\n",
       "      <td>Prof-specialty</td>\n",
       "      <td>Wife</td>\n",
       "      <td>Black</td>\n",
       "      <td>Female</td>\n",
       "      <td>0</td>\n",
       "      <td>0</td>\n",
       "      <td>40</td>\n",
       "      <td>Cuba</td>\n",
       "      <td>&lt;=50K</td>\n",
       "    </tr>\n",
       "  </tbody>\n",
       "</table>\n",
       "</div>"
      ],
      "text/plain": [
       "   Age          Workclass  fnlgwt   Education  Education num  \\\n",
       "0   39          State-gov   77516   Bachelors             13   \n",
       "1   50   Self-emp-not-inc   83311   Bachelors             13   \n",
       "2   38            Private  215646     HS-grad              9   \n",
       "3   53            Private  234721        11th              7   \n",
       "4   28            Private  338409   Bachelors             13   \n",
       "\n",
       "        Marital Status          Occupation    Relationship    Race      Sex  \\\n",
       "0        Never-married        Adm-clerical   Not-in-family   White     Male   \n",
       "1   Married-civ-spouse     Exec-managerial         Husband   White     Male   \n",
       "2             Divorced   Handlers-cleaners   Not-in-family   White     Male   \n",
       "3   Married-civ-spouse   Handlers-cleaners         Husband   Black     Male   \n",
       "4   Married-civ-spouse      Prof-specialty            Wife   Black   Female   \n",
       "\n",
       "   Capital Gain  Capital Loss  Hours/Week  Native country  Income  \n",
       "0          2174             0          40   United-States   <=50K  \n",
       "1             0             0          13   United-States   <=50K  \n",
       "2             0             0          40   United-States   <=50K  \n",
       "3             0             0          40   United-States   <=50K  \n",
       "4             0             0          40            Cuba   <=50K  "
      ]
     },
     "execution_count": 4,
     "metadata": {},
     "output_type": "execute_result"
    }
   ],
   "source": [
    "train.head()"
   ]
  },
  {
   "cell_type": "code",
   "execution_count": 5,
   "metadata": {},
   "outputs": [
    {
     "data": {
      "text/plain": [
       "(32561, 15)"
      ]
     },
     "execution_count": 5,
     "metadata": {},
     "output_type": "execute_result"
    }
   ],
   "source": [
    "train.shape"
   ]
  },
  {
   "cell_type": "code",
   "execution_count": 6,
   "metadata": {},
   "outputs": [
    {
     "data": {
      "text/plain": [
       "Age                int64\n",
       "Workclass         object\n",
       "fnlgwt             int64\n",
       "Education         object\n",
       "Education num      int64\n",
       "Marital Status    object\n",
       "Occupation        object\n",
       "Relationship      object\n",
       "Race              object\n",
       "Sex               object\n",
       "Capital Gain       int64\n",
       "Capital Loss       int64\n",
       "Hours/Week         int64\n",
       "Native country    object\n",
       "Income            object\n",
       "dtype: object"
      ]
     },
     "execution_count": 6,
     "metadata": {},
     "output_type": "execute_result"
    }
   ],
   "source": [
    "train.dtypes"
   ]
  },
  {
   "cell_type": "code",
   "execution_count": 7,
   "metadata": {},
   "outputs": [],
   "source": [
    "train.replace(' ?', np.nan, inplace=True)\n",
    "test.replace(' ?', np.nan, inplace=True)"
   ]
  },
  {
   "cell_type": "code",
   "execution_count": 8,
   "metadata": {},
   "outputs": [
    {
     "data": {
      "text/plain": [
       "Age                  0\n",
       "Workclass         1836\n",
       "fnlgwt               0\n",
       "Education            0\n",
       "Education num        0\n",
       "Marital Status       0\n",
       "Occupation        1843\n",
       "Relationship         0\n",
       "Race                 0\n",
       "Sex                  0\n",
       "Capital Gain         0\n",
       "Capital Loss         0\n",
       "Hours/Week           0\n",
       "Native country     583\n",
       "Income               0\n",
       "dtype: int64"
      ]
     },
     "execution_count": 8,
     "metadata": {},
     "output_type": "execute_result"
    }
   ],
   "source": [
    "# verificando quantidade de missing para cada var\n",
    "train.isnull().sum()"
   ]
  },
  {
   "cell_type": "markdown",
   "metadata": {},
   "source": [
    "## analisando variáveis (missing, categorias, ...)"
   ]
  },
  {
   "cell_type": "code",
   "execution_count": 9,
   "metadata": {},
   "outputs": [],
   "source": [
    "#transformando Income em variável binária\n",
    "#apply: aplica uma função na coluna especificada - no caso Income\n",
    "#lambda (nome de variável restrita do python) e já aplicar\n",
    "train['Income'] = train['Income'].apply(lambda x: 1 if x==' >50K' else 0)\n",
    "test['Income'] = test['Income'].apply(lambda x: 1 if x==' >50K.' else 0)"
   ]
  },
  {
   "cell_type": "code",
   "execution_count": 10,
   "metadata": {},
   "outputs": [
    {
     "data": {
      "text/plain": [
       " Private             22696\n",
       " Self-emp-not-inc     2541\n",
       " Local-gov            2093\n",
       " 0                    1836\n",
       " State-gov            1298\n",
       " Self-emp-inc         1116\n",
       " Federal-gov           960\n",
       " Without-pay            14\n",
       " Never-worked            7\n",
       "Name: Workclass, dtype: int64"
      ]
     },
     "execution_count": 10,
     "metadata": {},
     "output_type": "execute_result"
    }
   ],
   "source": [
    "#Workclass com muitas linhas missing, vamos colocá-las em uma nova classe, substituindo por 0 e ver como fica\n",
    "train['Workclass'].fillna(' 0', inplace=True)\n",
    "test['Workclass'].fillna(' 0', inplace=True)\n",
    "train['Workclass'].value_counts()"
   ]
  },
  {
   "cell_type": "code",
   "execution_count": 11,
   "metadata": {},
   "outputs": [],
   "source": [
    "#categorias Never-worked e Without-pay tem poucas obs então vamos juntá-las\n",
    "train['Workclass'].replace(' Without-pay', ' Never-worked', inplace=True)\n",
    "test['Workclass'].replace(' Without-pay', ' Never-worked', inplace=True)"
   ]
  },
  {
   "cell_type": "code",
   "execution_count": 12,
   "metadata": {},
   "outputs": [
    {
     "data": {
      "text/plain": [
       "(array([ 0,  1,  2,  3,  4,  5,  6,  7,  8,  9, 10, 11, 12, 13, 14, 15]),\n",
       " <a list of 16 Text xticklabel objects>)"
      ]
     },
     "execution_count": 12,
     "metadata": {},
     "output_type": "execute_result"
    },
    {
     "data": {
      "image/png": "[encoded data removed]",
      "text/plain": [
       "<matplotlib.figure.Figure at 0x2aa2bec0048>"
      ]
     },
     "metadata": {},
     "output_type": "display_data"
    }
   ],
   "source": [
    "sns.factorplot(x=\"Education\",y=\"Income\",data=train,kind=\"bar\", size = 7, palette = \"muted\")\n",
    "plt.xticks(rotation=60)"
   ]
  },
  {
   "cell_type": "code",
   "execution_count": 13,
   "metadata": {},
   "outputs": [],
   "source": [
    "#educação primária dividada em grades:' 1st-4th', ' 5th-6th', ' 7th-8th', ' 9th', ' 10th', ' 11th', ' 12th'. \n",
    "#vamos juntar essas classes em uma nova classe - Primary\n",
    "def primary(x):\n",
    "    if x in [' 1st-4th', ' 5th-6th', ' 7th-8th', ' 9th', ' 10th', ' 11th', ' 12th']:\n",
    "        return ' Primary'\n",
    "    else:\n",
    "        return x"
   ]
  },
  {
   "cell_type": "code",
   "execution_count": 14,
   "metadata": {},
   "outputs": [],
   "source": [
    "train['Education'] = train['Education'].apply(primary)\n",
    "test['Education'] = test['Education'].apply(primary)"
   ]
  },
  {
   "cell_type": "code",
   "execution_count": 16,
   "metadata": {},
   "outputs": [
    {
     "data": {
      "text/plain": [
       " United-States                 29170\n",
       " Mexico                          643\n",
       " 0                               583\n",
       " Philippines                     198\n",
       " Germany                         137\n",
       " Canada                          121\n",
       " Puerto-Rico                     114\n",
       " El-Salvador                     106\n",
       " India                           100\n",
       " Cuba                             95\n",
       " England                          90\n",
       " Jamaica                          81\n",
       " South                            80\n",
       " China                            75\n",
       " Italy                            73\n",
       " Dominican-Republic               70\n",
       " Vietnam                          67\n",
       " Guatemala                        64\n",
       " Japan                            62\n",
       " Poland                           60\n",
       " Columbia                         59\n",
       " Taiwan                           51\n",
       " Haiti                            44\n",
       " Iran                             43\n",
       " Portugal                         37\n",
       " Nicaragua                        34\n",
       " Peru                             31\n",
       " France                           29\n",
       " Greece                           29\n",
       " Ecuador                          28\n",
       " Ireland                          24\n",
       " Hong                             20\n",
       " Trinadad&Tobago                  19\n",
       " Cambodia                         19\n",
       " Laos                             18\n",
       " Thailand                         18\n",
       " Yugoslavia                       16\n",
       " Outlying-US(Guam-USVI-etc)       14\n",
       " Honduras                         13\n",
       " Hungary                          13\n",
       " Scotland                         12\n",
       " Holand-Netherlands                1\n",
       "Name: Native country, dtype: int64"
      ]
     },
     "execution_count": 16,
     "metadata": {},
     "output_type": "execute_result"
    }
   ],
   "source": [
    "#Native country tem alguns missing, vamos substituir por 0 e ver como fica\n",
    "train['Native country'].fillna(' 0', inplace=True)\n",
    "test['Native country'].fillna(' 0', inplace=True)\n",
    "train['Native country'].value_counts()"
   ]
  },
  {
   "cell_type": "code",
   "execution_count": 17,
   "metadata": {},
   "outputs": [],
   "source": [
    "#Vamos agrupar algumas categorias\n",
    "def native(country):\n",
    "    if country in [' United-States', ' Cuba', ' 0']:\n",
    "        return 'US'\n",
    "    elif country in [' England', ' Germany', ' Canada', ' Italy', ' France', ' Greece', ' Philippines']:\n",
    "        return 'Western'\n",
    "    elif country in [' Mexico', ' Puerto-Rico', ' Honduras', ' Jamaica', ' Columbia', ' Laos', ' Portugal', ' Haiti',\n",
    "                     ' Dominican-Republic', ' El-Salvador', ' Guatemala', ' Peru', \n",
    "                     ' Trinadad&Tobago', ' Outlying-US(Guam-USVI-etc)', ' Nicaragua', ' Vietnam', ' Holand-Netherlands' ]:\n",
    "        return 'Poor' \n",
    "    elif country in [' India', ' Iran', ' Cambodia', ' Taiwan', ' Japan', ' Yugoslavia', ' China', ' Hong']:\n",
    "        return 'Eastern'\n",
    "    elif country in [' South', ' Poland', ' Ireland', ' Hungary', ' Scotland', ' Thailand', ' Ecuador']:\n",
    "        return 'Poland team'\n",
    "    \n",
    "    else: \n",
    "        return country    "
   ]
  },
  {
   "cell_type": "code",
   "execution_count": 18,
   "metadata": {},
   "outputs": [],
   "source": [
    "train['Native country'] = train['Native country'].apply(native)\n",
    "test['Native country'] = test['Native country'].apply(native)"
   ]
  },
  {
   "cell_type": "code",
   "execution_count": 19,
   "metadata": {},
   "outputs": [
    {
     "data": {
      "image/png": "[encoded data removed]",
      "text/plain": [
       "<matplotlib.figure.Figure at 0x2aa2d02b6d8>"
      ]
     },
     "metadata": {},
     "output_type": "display_data"
    }
   ],
   "source": [
    "sns.factorplot(x=\"Native country\",y=\"Income\",data=train,kind=\"bar\", size = 5, \n",
    "palette = \"muted\")\n",
    "plt.xticks(rotation=60);"
   ]
  },
  {
   "cell_type": "markdown",
   "metadata": {},
   "source": [
    "## criando dummys"
   ]
  },
  {
   "cell_type": "code",
   "execution_count": 26,
   "metadata": {},
   "outputs": [],
   "source": [
    "#merge datasets\n",
    "joint = pd.concat([train, test], axis=0)\n",
    "# Renaming certain columns for better readability\n",
    "joint = joint.rename(columns={'Education num': 'Ed', \n",
    "                        'Marital Status': 'Status',\n",
    "                        'Capital Gain': 'CapGain',\n",
    "                        'Capital Loss': 'CapLoss',\n",
    "                        'Hours/Week': 'HWeek',\n",
    "                        'Native country': 'Country' })"
   ]
  },
  {
   "cell_type": "code",
   "execution_count": 27,
   "metadata": {},
   "outputs": [],
   "source": [
    "#list of columns with dtype: object\n",
    "#axes[1] coluna\n",
    "#axes[0] linha\n",
    "categorical_features = joint.select_dtypes(include=['object']).axes[1] \n",
    "# retorna as vars que são do tipo objeto"
   ]
  },
  {
   "cell_type": "code",
   "execution_count": 28,
   "metadata": {},
   "outputs": [
    {
     "name": "stdout",
     "output_type": "stream",
     "text": [
      "Workclass 8\n",
      "Education 10\n",
      "Status 7\n",
      "Occupation 14\n",
      "Relationship 6\n",
      "Race 5\n",
      "Sex 2\n",
      "Country 5\n"
     ]
    }
   ],
   "source": [
    "# unique: retorna os valores únicos\n",
    "# nunique: retorna o número de valores únicos\n",
    "for col in categorical_features:\n",
    "    print (col, joint[col].nunique()) \n",
    "# retorna as vars que são do tipo objeto e a quantidade de categorias em cada uma delas"
   ]
  },
  {
   "cell_type": "code",
   "execution_count": 29,
   "metadata": {},
   "outputs": [],
   "source": [
    "#criando dummys para as variáveis categoricas\n",
    "for col in categorical_features:\n",
    "    joint = pd.concat([joint, pd.get_dummies(joint[col], prefix=col, prefix_sep='_')], axis=1)\n",
    "    joint.drop(col, axis=1, inplace=True)"
   ]
  },
  {
   "cell_type": "code",
   "execution_count": 30,
   "metadata": {},
   "outputs": [],
   "source": [
    "#renomeando as variáveis\n",
    "new_columns = {}\n",
    "for i in joint.columns:\n",
    "    new_column = i.replace(\" \", \"\")\n",
    "    new_column = new_column.replace(\"-\", \"\")\n",
    "    new_columns[i] = new_column\n",
    "\n",
    "joint = joint.rename(columns=new_columns)"
   ]
  },
  {
   "cell_type": "code",
   "execution_count": 31,
   "metadata": {},
   "outputs": [
    {
     "data": {
      "text/html": [
       "<div>\n",
       "<style scoped>\n",
       "    .dataframe tbody tr th:only-of-type {\n",
       "        vertical-align: middle;\n",
       "    }\n",
       "\n",
       "    .dataframe tbody tr th {\n",
       "        vertical-align: top;\n",
       "    }\n",
       "\n",
       "    .dataframe thead th {\n",
       "        text-align: right;\n",
       "    }\n",
       "</style>\n",
       "<table border=\"1\" class=\"dataframe\">\n",
       "  <thead>\n",
       "    <tr style=\"text-align: right;\">\n",
       "      <th></th>\n",
       "      <th>Age</th>\n",
       "      <th>fnlgwt</th>\n",
       "      <th>Ed</th>\n",
       "      <th>CapGain</th>\n",
       "      <th>CapLoss</th>\n",
       "      <th>HWeek</th>\n",
       "      <th>Income</th>\n",
       "      <th>Workclass_0</th>\n",
       "      <th>Workclass_Federalgov</th>\n",
       "      <th>Workclass_Localgov</th>\n",
       "      <th>Workclass_Neverworked</th>\n",
       "      <th>Workclass_Private</th>\n",
       "      <th>Workclass_Selfempinc</th>\n",
       "      <th>Workclass_Selfempnotinc</th>\n",
       "      <th>Workclass_Stategov</th>\n",
       "      <th>Education_Assocacdm</th>\n",
       "      <th>Education_Assocvoc</th>\n",
       "      <th>Education_Bachelors</th>\n",
       "      <th>Education_Doctorate</th>\n",
       "      <th>Education_HSgrad</th>\n",
       "      <th>Education_Masters</th>\n",
       "      <th>Education_Preschool</th>\n",
       "      <th>Education_Primary</th>\n",
       "      <th>Education_Profschool</th>\n",
       "      <th>Education_Somecollege</th>\n",
       "      <th>Status_Divorced</th>\n",
       "      <th>Status_MarriedAFspouse</th>\n",
       "      <th>Status_Marriedcivspouse</th>\n",
       "      <th>Status_Marriedspouseabsent</th>\n",
       "      <th>Status_Nevermarried</th>\n",
       "      <th>Status_Separated</th>\n",
       "      <th>Status_Widowed</th>\n",
       "      <th>Occupation_Admclerical</th>\n",
       "      <th>Occupation_ArmedForces</th>\n",
       "      <th>Occupation_Craftrepair</th>\n",
       "      <th>Occupation_Execmanagerial</th>\n",
       "      <th>Occupation_Farmingfishing</th>\n",
       "      <th>Occupation_Handlerscleaners</th>\n",
       "      <th>Occupation_Machineopinspct</th>\n",
       "      <th>Occupation_Otherservice</th>\n",
       "      <th>Occupation_Privhouseserv</th>\n",
       "      <th>Occupation_Profspecialty</th>\n",
       "      <th>Occupation_Protectiveserv</th>\n",
       "      <th>Occupation_Sales</th>\n",
       "      <th>Occupation_Techsupport</th>\n",
       "      <th>Occupation_Transportmoving</th>\n",
       "      <th>Relationship_Husband</th>\n",
       "      <th>Relationship_Notinfamily</th>\n",
       "      <th>Relationship_Otherrelative</th>\n",
       "      <th>Relationship_Ownchild</th>\n",
       "      <th>Relationship_Unmarried</th>\n",
       "      <th>Relationship_Wife</th>\n",
       "      <th>Race_AmerIndianEskimo</th>\n",
       "      <th>Race_AsianPacIslander</th>\n",
       "      <th>Race_Black</th>\n",
       "      <th>Race_Other</th>\n",
       "      <th>Race_White</th>\n",
       "      <th>Sex_Female</th>\n",
       "      <th>Sex_Male</th>\n",
       "      <th>Country_Eastern</th>\n",
       "      <th>Country_Polandteam</th>\n",
       "      <th>Country_Poor</th>\n",
       "      <th>Country_US</th>\n",
       "      <th>Country_Western</th>\n",
       "    </tr>\n",
       "  </thead>\n",
       "  <tbody>\n",
       "    <tr>\n",
       "      <th>0</th>\n",
       "      <td>39</td>\n",
       "      <td>77516</td>\n",
       "      <td>13</td>\n",
       "      <td>2174</td>\n",
       "      <td>0</td>\n",
       "      <td>40</td>\n",
       "      <td>0</td>\n",
       "      <td>0</td>\n",
       "      <td>0</td>\n",
       "      <td>0</td>\n",
       "      <td>0</td>\n",
       "      <td>0</td>\n",
       "      <td>0</td>\n",
       "      <td>0</td>\n",
       "      <td>1</td>\n",
       "      <td>0</td>\n",
       "      <td>0</td>\n",
       "      <td>1</td>\n",
       "      <td>0</td>\n",
       "      <td>0</td>\n",
       "      <td>0</td>\n",
       "      <td>0</td>\n",
       "      <td>0</td>\n",
       "      <td>0</td>\n",
       "      <td>0</td>\n",
       "      <td>0</td>\n",
       "      <td>0</td>\n",
       "      <td>0</td>\n",
       "      <td>0</td>\n",
       "      <td>1</td>\n",
       "      <td>0</td>\n",
       "      <td>0</td>\n",
       "      <td>1</td>\n",
       "      <td>0</td>\n",
       "      <td>0</td>\n",
       "      <td>0</td>\n",
       "      <td>0</td>\n",
       "      <td>0</td>\n",
       "      <td>0</td>\n",
       "      <td>0</td>\n",
       "      <td>0</td>\n",
       "      <td>0</td>\n",
       "      <td>0</td>\n",
       "      <td>0</td>\n",
       "      <td>0</td>\n",
       "      <td>0</td>\n",
       "      <td>0</td>\n",
       "      <td>1</td>\n",
       "      <td>0</td>\n",
       "      <td>0</td>\n",
       "      <td>0</td>\n",
       "      <td>0</td>\n",
       "      <td>0</td>\n",
       "      <td>0</td>\n",
       "      <td>0</td>\n",
       "      <td>0</td>\n",
       "      <td>1</td>\n",
       "      <td>0</td>\n",
       "      <td>1</td>\n",
       "      <td>0</td>\n",
       "      <td>0</td>\n",
       "      <td>0</td>\n",
       "      <td>1</td>\n",
       "      <td>0</td>\n",
       "    </tr>\n",
       "    <tr>\n",
       "      <th>1</th>\n",
       "      <td>50</td>\n",
       "      <td>83311</td>\n",
       "      <td>13</td>\n",
       "      <td>0</td>\n",
       "      <td>0</td>\n",
       "      <td>13</td>\n",
       "      <td>0</td>\n",
       "      <td>0</td>\n",
       "      <td>0</td>\n",
       "      <td>0</td>\n",
       "      <td>0</td>\n",
       "      <td>0</td>\n",
       "      <td>0</td>\n",
       "      <td>1</td>\n",
       "      <td>0</td>\n",
       "      <td>0</td>\n",
       "      <td>0</td>\n",
       "      <td>1</td>\n",
       "      <td>0</td>\n",
       "      <td>0</td>\n",
       "      <td>0</td>\n",
       "      <td>0</td>\n",
       "      <td>0</td>\n",
       "      <td>0</td>\n",
       "      <td>0</td>\n",
       "      <td>0</td>\n",
       "      <td>0</td>\n",
       "      <td>1</td>\n",
       "      <td>0</td>\n",
       "      <td>0</td>\n",
       "      <td>0</td>\n",
       "      <td>0</td>\n",
       "      <td>0</td>\n",
       "      <td>0</td>\n",
       "      <td>0</td>\n",
       "      <td>1</td>\n",
       "      <td>0</td>\n",
       "      <td>0</td>\n",
       "      <td>0</td>\n",
       "      <td>0</td>\n",
       "      <td>0</td>\n",
       "      <td>0</td>\n",
       "      <td>0</td>\n",
       "      <td>0</td>\n",
       "      <td>0</td>\n",
       "      <td>0</td>\n",
       "      <td>1</td>\n",
       "      <td>0</td>\n",
       "      <td>0</td>\n",
       "      <td>0</td>\n",
       "      <td>0</td>\n",
       "      <td>0</td>\n",
       "      <td>0</td>\n",
       "      <td>0</td>\n",
       "      <td>0</td>\n",
       "      <td>0</td>\n",
       "      <td>1</td>\n",
       "      <td>0</td>\n",
       "      <td>1</td>\n",
       "      <td>0</td>\n",
       "      <td>0</td>\n",
       "      <td>0</td>\n",
       "      <td>1</td>\n",
       "      <td>0</td>\n",
       "    </tr>\n",
       "    <tr>\n",
       "      <th>2</th>\n",
       "      <td>38</td>\n",
       "      <td>215646</td>\n",
       "      <td>9</td>\n",
       "      <td>0</td>\n",
       "      <td>0</td>\n",
       "      <td>40</td>\n",
       "      <td>0</td>\n",
       "      <td>0</td>\n",
       "      <td>0</td>\n",
       "      <td>0</td>\n",
       "      <td>0</td>\n",
       "      <td>1</td>\n",
       "      <td>0</td>\n",
       "      <td>0</td>\n",
       "      <td>0</td>\n",
       "      <td>0</td>\n",
       "      <td>0</td>\n",
       "      <td>0</td>\n",
       "      <td>0</td>\n",
       "      <td>1</td>\n",
       "      <td>0</td>\n",
       "      <td>0</td>\n",
       "      <td>0</td>\n",
       "      <td>0</td>\n",
       "      <td>0</td>\n",
       "      <td>1</td>\n",
       "      <td>0</td>\n",
       "      <td>0</td>\n",
       "      <td>0</td>\n",
       "      <td>0</td>\n",
       "      <td>0</td>\n",
       "      <td>0</td>\n",
       "      <td>0</td>\n",
       "      <td>0</td>\n",
       "      <td>0</td>\n",
       "      <td>0</td>\n",
       "      <td>0</td>\n",
       "      <td>1</td>\n",
       "      <td>0</td>\n",
       "      <td>0</td>\n",
       "      <td>0</td>\n",
       "      <td>0</td>\n",
       "      <td>0</td>\n",
       "      <td>0</td>\n",
       "      <td>0</td>\n",
       "      <td>0</td>\n",
       "      <td>0</td>\n",
       "      <td>1</td>\n",
       "      <td>0</td>\n",
       "      <td>0</td>\n",
       "      <td>0</td>\n",
       "      <td>0</td>\n",
       "      <td>0</td>\n",
       "      <td>0</td>\n",
       "      <td>0</td>\n",
       "      <td>0</td>\n",
       "      <td>1</td>\n",
       "      <td>0</td>\n",
       "      <td>1</td>\n",
       "      <td>0</td>\n",
       "      <td>0</td>\n",
       "      <td>0</td>\n",
       "      <td>1</td>\n",
       "      <td>0</td>\n",
       "    </tr>\n",
       "    <tr>\n",
       "      <th>3</th>\n",
       "      <td>53</td>\n",
       "      <td>234721</td>\n",
       "      <td>7</td>\n",
       "      <td>0</td>\n",
       "      <td>0</td>\n",
       "      <td>40</td>\n",
       "      <td>0</td>\n",
       "      <td>0</td>\n",
       "      <td>0</td>\n",
       "      <td>0</td>\n",
       "      <td>0</td>\n",
       "      <td>1</td>\n",
       "      <td>0</td>\n",
       "      <td>0</td>\n",
       "      <td>0</td>\n",
       "      <td>0</td>\n",
       "      <td>0</td>\n",
       "      <td>0</td>\n",
       "      <td>0</td>\n",
       "      <td>0</td>\n",
       "      <td>0</td>\n",
       "      <td>0</td>\n",
       "      <td>1</td>\n",
       "      <td>0</td>\n",
       "      <td>0</td>\n",
       "      <td>0</td>\n",
       "      <td>0</td>\n",
       "      <td>1</td>\n",
       "      <td>0</td>\n",
       "      <td>0</td>\n",
       "      <td>0</td>\n",
       "      <td>0</td>\n",
       "      <td>0</td>\n",
       "      <td>0</td>\n",
       "      <td>0</td>\n",
       "      <td>0</td>\n",
       "      <td>0</td>\n",
       "      <td>1</td>\n",
       "      <td>0</td>\n",
       "      <td>0</td>\n",
       "      <td>0</td>\n",
       "      <td>0</td>\n",
       "      <td>0</td>\n",
       "      <td>0</td>\n",
       "      <td>0</td>\n",
       "      <td>0</td>\n",
       "      <td>1</td>\n",
       "      <td>0</td>\n",
       "      <td>0</td>\n",
       "      <td>0</td>\n",
       "      <td>0</td>\n",
       "      <td>0</td>\n",
       "      <td>0</td>\n",
       "      <td>0</td>\n",
       "      <td>1</td>\n",
       "      <td>0</td>\n",
       "      <td>0</td>\n",
       "      <td>0</td>\n",
       "      <td>1</td>\n",
       "      <td>0</td>\n",
       "      <td>0</td>\n",
       "      <td>0</td>\n",
       "      <td>1</td>\n",
       "      <td>0</td>\n",
       "    </tr>\n",
       "    <tr>\n",
       "      <th>4</th>\n",
       "      <td>28</td>\n",
       "      <td>338409</td>\n",
       "      <td>13</td>\n",
       "      <td>0</td>\n",
       "      <td>0</td>\n",
       "      <td>40</td>\n",
       "      <td>0</td>\n",
       "      <td>0</td>\n",
       "      <td>0</td>\n",
       "      <td>0</td>\n",
       "      <td>0</td>\n",
       "      <td>1</td>\n",
       "      <td>0</td>\n",
       "      <td>0</td>\n",
       "      <td>0</td>\n",
       "      <td>0</td>\n",
       "      <td>0</td>\n",
       "      <td>1</td>\n",
       "      <td>0</td>\n",
       "      <td>0</td>\n",
       "      <td>0</td>\n",
       "      <td>0</td>\n",
       "      <td>0</td>\n",
       "      <td>0</td>\n",
       "      <td>0</td>\n",
       "      <td>0</td>\n",
       "      <td>0</td>\n",
       "      <td>1</td>\n",
       "      <td>0</td>\n",
       "      <td>0</td>\n",
       "      <td>0</td>\n",
       "      <td>0</td>\n",
       "      <td>0</td>\n",
       "      <td>0</td>\n",
       "      <td>0</td>\n",
       "      <td>0</td>\n",
       "      <td>0</td>\n",
       "      <td>0</td>\n",
       "      <td>0</td>\n",
       "      <td>0</td>\n",
       "      <td>0</td>\n",
       "      <td>1</td>\n",
       "      <td>0</td>\n",
       "      <td>0</td>\n",
       "      <td>0</td>\n",
       "      <td>0</td>\n",
       "      <td>0</td>\n",
       "      <td>0</td>\n",
       "      <td>0</td>\n",
       "      <td>0</td>\n",
       "      <td>0</td>\n",
       "      <td>1</td>\n",
       "      <td>0</td>\n",
       "      <td>0</td>\n",
       "      <td>1</td>\n",
       "      <td>0</td>\n",
       "      <td>0</td>\n",
       "      <td>1</td>\n",
       "      <td>0</td>\n",
       "      <td>0</td>\n",
       "      <td>0</td>\n",
       "      <td>0</td>\n",
       "      <td>1</td>\n",
       "      <td>0</td>\n",
       "    </tr>\n",
       "  </tbody>\n",
       "</table>\n",
       "</div>"
      ],
      "text/plain": [
       "   Age  fnlgwt  Ed  CapGain  CapLoss  HWeek  Income  Workclass_0  \\\n",
       "0   39   77516  13     2174        0     40       0            0   \n",
       "1   50   83311  13        0        0     13       0            0   \n",
       "2   38  215646   9        0        0     40       0            0   \n",
       "3   53  234721   7        0        0     40       0            0   \n",
       "4   28  338409  13        0        0     40       0            0   \n",
       "\n",
       "   Workclass_Federalgov  Workclass_Localgov  Workclass_Neverworked  \\\n",
       "0                     0                   0                      0   \n",
       "1                     0                   0                      0   \n",
       "2                     0                   0                      0   \n",
       "3                     0                   0                      0   \n",
       "4                     0                   0                      0   \n",
       "\n",
       "   Workclass_Private  Workclass_Selfempinc  Workclass_Selfempnotinc  \\\n",
       "0                  0                     0                        0   \n",
       "1                  0                     0                        1   \n",
       "2                  1                     0                        0   \n",
       "3                  1                     0                        0   \n",
       "4                  1                     0                        0   \n",
       "\n",
       "   Workclass_Stategov  Education_Assocacdm  Education_Assocvoc  \\\n",
       "0                   1                    0                   0   \n",
       "1                   0                    0                   0   \n",
       "2                   0                    0                   0   \n",
       "3                   0                    0                   0   \n",
       "4                   0                    0                   0   \n",
       "\n",
       "   Education_Bachelors  Education_Doctorate  Education_HSgrad  \\\n",
       "0                    1                    0                 0   \n",
       "1                    1                    0                 0   \n",
       "2                    0                    0                 1   \n",
       "3                    0                    0                 0   \n",
       "4                    1                    0                 0   \n",
       "\n",
       "   Education_Masters  Education_Preschool  Education_Primary  \\\n",
       "0                  0                    0                  0   \n",
       "1                  0                    0                  0   \n",
       "2                  0                    0                  0   \n",
       "3                  0                    0                  1   \n",
       "4                  0                    0                  0   \n",
       "\n",
       "   Education_Profschool  Education_Somecollege  Status_Divorced  \\\n",
       "0                     0                      0                0   \n",
       "1                     0                      0                0   \n",
       "2                     0                      0                1   \n",
       "3                     0                      0                0   \n",
       "4                     0                      0                0   \n",
       "\n",
       "   Status_MarriedAFspouse  Status_Marriedcivspouse  \\\n",
       "0                       0                        0   \n",
       "1                       0                        1   \n",
       "2                       0                        0   \n",
       "3                       0                        1   \n",
       "4                       0                        1   \n",
       "\n",
       "   Status_Marriedspouseabsent  Status_Nevermarried  Status_Separated  \\\n",
       "0                           0                    1                 0   \n",
       "1                           0                    0                 0   \n",
       "2                           0                    0                 0   \n",
       "3                           0                    0                 0   \n",
       "4                           0                    0                 0   \n",
       "\n",
       "   Status_Widowed  Occupation_Admclerical  Occupation_ArmedForces  \\\n",
       "0               0                       1                       0   \n",
       "1               0                       0                       0   \n",
       "2               0                       0                       0   \n",
       "3               0                       0                       0   \n",
       "4               0                       0                       0   \n",
       "\n",
       "   Occupation_Craftrepair  Occupation_Execmanagerial  \\\n",
       "0                       0                          0   \n",
       "1                       0                          1   \n",
       "2                       0                          0   \n",
       "3                       0                          0   \n",
       "4                       0                          0   \n",
       "\n",
       "   Occupation_Farmingfishing  Occupation_Handlerscleaners  \\\n",
       "0                          0                            0   \n",
       "1                          0                            0   \n",
       "2                          0                            1   \n",
       "3                          0                            1   \n",
       "4                          0                            0   \n",
       "\n",
       "   Occupation_Machineopinspct  Occupation_Otherservice  \\\n",
       "0                           0                        0   \n",
       "1                           0                        0   \n",
       "2                           0                        0   \n",
       "3                           0                        0   \n",
       "4                           0                        0   \n",
       "\n",
       "   Occupation_Privhouseserv  Occupation_Profspecialty  \\\n",
       "0                         0                         0   \n",
       "1                         0                         0   \n",
       "2                         0                         0   \n",
       "3                         0                         0   \n",
       "4                         0                         1   \n",
       "\n",
       "   Occupation_Protectiveserv  Occupation_Sales  Occupation_Techsupport  \\\n",
       "0                          0                 0                       0   \n",
       "1                          0                 0                       0   \n",
       "2                          0                 0                       0   \n",
       "3                          0                 0                       0   \n",
       "4                          0                 0                       0   \n",
       "\n",
       "   Occupation_Transportmoving  Relationship_Husband  Relationship_Notinfamily  \\\n",
       "0                           0                     0                         1   \n",
       "1                           0                     1                         0   \n",
       "2                           0                     0                         1   \n",
       "3                           0                     1                         0   \n",
       "4                           0                     0                         0   \n",
       "\n",
       "   Relationship_Otherrelative  Relationship_Ownchild  Relationship_Unmarried  \\\n",
       "0                           0                      0                       0   \n",
       "1                           0                      0                       0   \n",
       "2                           0                      0                       0   \n",
       "3                           0                      0                       0   \n",
       "4                           0                      0                       0   \n",
       "\n",
       "   Relationship_Wife  Race_AmerIndianEskimo  Race_AsianPacIslander  \\\n",
       "0                  0                      0                      0   \n",
       "1                  0                      0                      0   \n",
       "2                  0                      0                      0   \n",
       "3                  0                      0                      0   \n",
       "4                  1                      0                      0   \n",
       "\n",
       "   Race_Black  Race_Other  Race_White  Sex_Female  Sex_Male  Country_Eastern  \\\n",
       "0           0           0           1           0         1                0   \n",
       "1           0           0           1           0         1                0   \n",
       "2           0           0           1           0         1                0   \n",
       "3           1           0           0           0         1                0   \n",
       "4           1           0           0           1         0                0   \n",
       "\n",
       "   Country_Polandteam  Country_Poor  Country_US  Country_Western  \n",
       "0                   0             0           1                0  \n",
       "1                   0             0           1                0  \n",
       "2                   0             0           1                0  \n",
       "3                   0             0           1                0  \n",
       "4                   0             0           1                0  "
      ]
     },
     "execution_count": 31,
     "metadata": {},
     "output_type": "execute_result"
    }
   ],
   "source": [
    "joint.head()"
   ]
  },
  {
   "cell_type": "code",
   "execution_count": 32,
   "metadata": {},
   "outputs": [],
   "source": [
    "train = joint.head(train.shape[0])\n",
    "test = joint.tail(test.shape[0])"
   ]
  },
  {
   "cell_type": "code",
   "execution_count": 33,
   "metadata": {},
   "outputs": [],
   "source": [
    "#scaler = StandardScaler()\n",
    "#scaler.fit(Xtrain)\n",
    "#Xtrain = scaler.transform(Xtrain)\n",
    "#Xtest = scaler.transform(Xtest)\n",
    "\n",
    "Xtrain = train.drop('Income', axis=1)\n",
    "Ttrain = train['Income']\n",
    "\n",
    "Xtest = test.drop('Income', axis=1)\n",
    "Ttest = test['Income']"
   ]
  },
  {
   "cell_type": "markdown",
   "metadata": {},
   "source": [
    "### verificando correlação entre variáveis Dummy para cada variável original"
   ]
  },
  {
   "cell_type": "code",
   "execution_count": 35,
   "metadata": {},
   "outputs": [
    {
     "data": {
      "text/plain": [
       "Index(['Age', 'fnlgwt', 'Ed', 'CapGain', 'CapLoss', 'HWeek', 'Income',\n",
       "       'Workclass_0', 'Workclass_Federalgov', 'Workclass_Localgov',\n",
       "       'Workclass_Neverworked', 'Workclass_Private', 'Workclass_Selfempinc',\n",
       "       'Workclass_Selfempnotinc', 'Workclass_Stategov', 'Education_Assocacdm',\n",
       "       'Education_Assocvoc', 'Education_Bachelors', 'Education_Doctorate',\n",
       "       'Education_HSgrad', 'Education_Masters', 'Education_Preschool',\n",
       "       'Education_Primary', 'Education_Profschool', 'Education_Somecollege',\n",
       "       'Status_Divorced', 'Status_MarriedAFspouse', 'Status_Marriedcivspouse',\n",
       "       'Status_Marriedspouseabsent', 'Status_Nevermarried', 'Status_Separated',\n",
       "       'Status_Widowed', 'Occupation_Admclerical', 'Occupation_ArmedForces',\n",
       "       'Occupation_Craftrepair', 'Occupation_Execmanagerial',\n",
       "       'Occupation_Farmingfishing', 'Occupation_Handlerscleaners',\n",
       "       'Occupation_Machineopinspct', 'Occupation_Otherservice',\n",
       "       'Occupation_Privhouseserv', 'Occupation_Profspecialty',\n",
       "       'Occupation_Protectiveserv', 'Occupation_Sales',\n",
       "       'Occupation_Techsupport', 'Occupation_Transportmoving',\n",
       "       'Relationship_Husband', 'Relationship_Notinfamily',\n",
       "       'Relationship_Otherrelative', 'Relationship_Ownchild',\n",
       "       'Relationship_Unmarried', 'Relationship_Wife', 'Race_AmerIndianEskimo',\n",
       "       'Race_AsianPacIslander', 'Race_Black', 'Race_Other', 'Race_White',\n",
       "       'Sex_Female', 'Sex_Male', 'Country_Eastern', 'Country_Polandteam',\n",
       "       'Country_Poor', 'Country_US', 'Country_Western'],\n",
       "      dtype='object')"
      ]
     },
     "execution_count": 35,
     "metadata": {},
     "output_type": "execute_result"
    }
   ],
   "source": [
    "train.columns"
   ]
  },
  {
   "cell_type": "code",
   "execution_count": 36,
   "metadata": {},
   "outputs": [
    {
     "data": {
      "text/html": [
       "<div>\n",
       "<style scoped>\n",
       "    .dataframe tbody tr th:only-of-type {\n",
       "        vertical-align: middle;\n",
       "    }\n",
       "\n",
       "    .dataframe tbody tr th {\n",
       "        vertical-align: top;\n",
       "    }\n",
       "\n",
       "    .dataframe thead th {\n",
       "        text-align: right;\n",
       "    }\n",
       "</style>\n",
       "<table border=\"1\" class=\"dataframe\">\n",
       "  <thead>\n",
       "    <tr style=\"text-align: right;\">\n",
       "      <th></th>\n",
       "      <th>Status_Divorced</th>\n",
       "      <th>Status_MarriedAFspouse</th>\n",
       "      <th>Status_Marriedcivspouse</th>\n",
       "      <th>Status_Marriedspouseabsent</th>\n",
       "      <th>Status_Nevermarried</th>\n",
       "      <th>Status_Separated</th>\n",
       "      <th>Status_Widowed</th>\n",
       "      <th>Income</th>\n",
       "    </tr>\n",
       "  </thead>\n",
       "  <tbody>\n",
       "    <tr>\n",
       "      <th>Status_Divorced</th>\n",
       "      <td>1.000000</td>\n",
       "      <td>-0.010569</td>\n",
       "      <td>-0.366837</td>\n",
       "      <td>-0.045331</td>\n",
       "      <td>-0.277772</td>\n",
       "      <td>-0.071665</td>\n",
       "      <td>-0.070501</td>\n",
       "      <td>-0.126995</td>\n",
       "    </tr>\n",
       "    <tr>\n",
       "      <th>Status_MarriedAFspouse</th>\n",
       "      <td>-0.010569</td>\n",
       "      <td>1.000000</td>\n",
       "      <td>-0.024536</td>\n",
       "      <td>-0.003032</td>\n",
       "      <td>-0.018579</td>\n",
       "      <td>-0.004793</td>\n",
       "      <td>-0.004715</td>\n",
       "      <td>0.012061</td>\n",
       "    </tr>\n",
       "    <tr>\n",
       "      <th>Status_Marriedcivspouse</th>\n",
       "      <td>-0.366837</td>\n",
       "      <td>-0.024536</td>\n",
       "      <td>1.000000</td>\n",
       "      <td>-0.105238</td>\n",
       "      <td>-0.644866</td>\n",
       "      <td>-0.166374</td>\n",
       "      <td>-0.163673</td>\n",
       "      <td>0.444696</td>\n",
       "    </tr>\n",
       "    <tr>\n",
       "      <th>Status_Marriedspouseabsent</th>\n",
       "      <td>-0.045331</td>\n",
       "      <td>-0.003032</td>\n",
       "      <td>-0.105238</td>\n",
       "      <td>1.000000</td>\n",
       "      <td>-0.079687</td>\n",
       "      <td>-0.020559</td>\n",
       "      <td>-0.020225</td>\n",
       "      <td>-0.042532</td>\n",
       "    </tr>\n",
       "    <tr>\n",
       "      <th>Status_Nevermarried</th>\n",
       "      <td>-0.277772</td>\n",
       "      <td>-0.018579</td>\n",
       "      <td>-0.644866</td>\n",
       "      <td>-0.079687</td>\n",
       "      <td>1.000000</td>\n",
       "      <td>-0.125980</td>\n",
       "      <td>-0.123935</td>\n",
       "      <td>-0.318440</td>\n",
       "    </tr>\n",
       "    <tr>\n",
       "      <th>Status_Separated</th>\n",
       "      <td>-0.071665</td>\n",
       "      <td>-0.004793</td>\n",
       "      <td>-0.166374</td>\n",
       "      <td>-0.020559</td>\n",
       "      <td>-0.125980</td>\n",
       "      <td>1.000000</td>\n",
       "      <td>-0.031975</td>\n",
       "      <td>-0.074386</td>\n",
       "    </tr>\n",
       "    <tr>\n",
       "      <th>Status_Widowed</th>\n",
       "      <td>-0.070501</td>\n",
       "      <td>-0.004715</td>\n",
       "      <td>-0.163673</td>\n",
       "      <td>-0.020225</td>\n",
       "      <td>-0.123935</td>\n",
       "      <td>-0.031975</td>\n",
       "      <td>1.000000</td>\n",
       "      <td>-0.064381</td>\n",
       "    </tr>\n",
       "    <tr>\n",
       "      <th>Income</th>\n",
       "      <td>-0.126995</td>\n",
       "      <td>0.012061</td>\n",
       "      <td>0.444696</td>\n",
       "      <td>-0.042532</td>\n",
       "      <td>-0.318440</td>\n",
       "      <td>-0.074386</td>\n",
       "      <td>-0.064381</td>\n",
       "      <td>1.000000</td>\n",
       "    </tr>\n",
       "  </tbody>\n",
       "</table>\n",
       "</div>"
      ],
      "text/plain": [
       "                            Status_Divorced  Status_MarriedAFspouse  \\\n",
       "Status_Divorced                    1.000000               -0.010569   \n",
       "Status_MarriedAFspouse            -0.010569                1.000000   \n",
       "Status_Marriedcivspouse           -0.366837               -0.024536   \n",
       "Status_Marriedspouseabsent        -0.045331               -0.003032   \n",
       "Status_Nevermarried               -0.277772               -0.018579   \n",
       "Status_Separated                  -0.071665               -0.004793   \n",
       "Status_Widowed                    -0.070501               -0.004715   \n",
       "Income                            -0.126995                0.012061   \n",
       "\n",
       "                            Status_Marriedcivspouse  \\\n",
       "Status_Divorced                           -0.366837   \n",
       "Status_MarriedAFspouse                    -0.024536   \n",
       "Status_Marriedcivspouse                    1.000000   \n",
       "Status_Marriedspouseabsent                -0.105238   \n",
       "Status_Nevermarried                       -0.644866   \n",
       "Status_Separated                          -0.166374   \n",
       "Status_Widowed                            -0.163673   \n",
       "Income                                     0.444696   \n",
       "\n",
       "                            Status_Marriedspouseabsent  Status_Nevermarried  \\\n",
       "Status_Divorced                              -0.045331            -0.277772   \n",
       "Status_MarriedAFspouse                       -0.003032            -0.018579   \n",
       "Status_Marriedcivspouse                      -0.105238            -0.644866   \n",
       "Status_Marriedspouseabsent                    1.000000            -0.079687   \n",
       "Status_Nevermarried                          -0.079687             1.000000   \n",
       "Status_Separated                             -0.020559            -0.125980   \n",
       "Status_Widowed                               -0.020225            -0.123935   \n",
       "Income                                       -0.042532            -0.318440   \n",
       "\n",
       "                            Status_Separated  Status_Widowed    Income  \n",
       "Status_Divorced                    -0.071665       -0.070501 -0.126995  \n",
       "Status_MarriedAFspouse             -0.004793       -0.004715  0.012061  \n",
       "Status_Marriedcivspouse            -0.166374       -0.163673  0.444696  \n",
       "Status_Marriedspouseabsent         -0.020559       -0.020225 -0.042532  \n",
       "Status_Nevermarried                -0.125980       -0.123935 -0.318440  \n",
       "Status_Separated                    1.000000       -0.031975 -0.074386  \n",
       "Status_Widowed                     -0.031975        1.000000 -0.064381  \n",
       "Income                             -0.074386       -0.064381  1.000000  "
      ]
     },
     "execution_count": 36,
     "metadata": {},
     "output_type": "execute_result"
    },
    {
     "data": {
      "image/png": "[encoded data removed]",
      "text/plain": [
       "<matplotlib.figure.Figure at 0x2aa2bec0b38>"
      ]
     },
     "metadata": {},
     "output_type": "display_data"
    }
   ],
   "source": [
    "# matriz de correlação das variáveis Marital\n",
    "Base_Marital = train[['Status_Divorced', 'Status_MarriedAFspouse', 'Status_Marriedcivspouse',\n",
    "       'Status_Marriedspouseabsent', 'Status_Nevermarried', 'Status_Separated','Status_Widowed', 'Income']]\n",
    "corr = Base_Marital.corr()\n",
    "corr = (corr)\n",
    "sns.heatmap(corr, xticklabels=corr.columns.values, yticklabels=corr.columns.values)\n",
    "corr"
   ]
  },
  {
   "cell_type": "markdown",
   "metadata": {},
   "source": [
    "# metodo de seleção de variáveis forward"
   ]
  },
  {
   "cell_type": "code",
   "execution_count": 38,
   "metadata": {},
   "outputs": [],
   "source": [
    "#usando statsmodel\n",
    "def forward_selected(data, response):\n",
    "    \n",
    "    remaining = set(data.columns)\n",
    "    remaining.remove(response)\n",
    "    selected = []\n",
    "    current_score, best_new_score = 0.0, 0.0\n",
    "    while remaining and current_score == best_new_score:\n",
    "        scores_with_candidates = []\n",
    "        for candidate in remaining:\n",
    "            formula = \"{} ~ {} + 1\".format(response,\n",
    "                                           ' + '.join(selected + [candidate]))\n",
    "            score = smf.ols(formula, data).fit().rsquared_adj\n",
    "            scores_with_candidates.append((score, candidate))\n",
    "        scores_with_candidates.sort()\n",
    "        best_new_score, best_candidate = scores_with_candidates.pop()\n",
    "        if current_score < best_new_score:\n",
    "            remaining.remove(best_candidate)\n",
    "            selected.append(best_candidate)\n",
    "            current_score = best_new_score\n",
    "    formula = \"{} ~ {} + 1\".format(response,\n",
    "                                   ' + '.join(selected))\n",
    "    model = smf.ols(formula, data).fit()\n",
    "    return model"
   ]
  },
  {
   "cell_type": "code",
   "execution_count": 40,
   "metadata": {},
   "outputs": [],
   "source": [
    "train_1 = train[[\n",
    "    'Workclass_Selfempinc', 'Workclass_Private', 'Workclass_0',\n",
    "    'Education_Bachelors', 'Education_Masters', 'Education_Primary','Education_Profschool',\n",
    "    'Status_Marriedcivspouse', 'Status_Divorced',\n",
    "    'Occupation_Execmanagerial', 'Occupation_Otherservice','Occupation_Profspecialty',\n",
    "    'Relationship_Husband', 'Relationship_Ownchild',\n",
    "    'Race_White',\n",
    "    'Sex_Female',\n",
    "    'Country_Poor','Country_US',\n",
    "    'Age','fnlgwt','Ed','CapGain','CapLoss','HWeek',\n",
    "    'Income',\n",
    "]]"
   ]
  },
  {
   "cell_type": "code",
   "execution_count": 41,
   "metadata": {},
   "outputs": [
    {
     "name": "stdout",
     "output_type": "stream",
     "text": [
      "Income ~ Status_Marriedcivspouse + Ed + CapGain + Occupation_Execmanagerial + CapLoss + HWeek + Age + Occupation_Profspecialty + Education_Primary + Workclass_Selfempinc + Workclass_Private + Sex_Female + Relationship_Husband + fnlgwt + Race_White + Education_Masters + Country_Poor + Education_Profschool + Occupation_Otherservice + Education_Bachelors + Relationship_Ownchild + 1\n",
      "0.354320492058\n"
     ]
    }
   ],
   "source": [
    "#aplicando o método de seleção de variáveis forward\n",
    "\n",
    "model = forward_selected(train_1, 'Income')\n",
    "\n",
    "print(model.model.formula)\n",
    "print(model.rsquared_adj)"
   ]
  },
  {
   "cell_type": "markdown",
   "metadata": {},
   "source": [
    "# fitting and scoring modelo de Regressão Logística"
   ]
  },
  {
   "cell_type": "markdown",
   "metadata": {},
   "source": [
    "### usando variaveis selecionadas por método forward"
   ]
  },
  {
   "cell_type": "code",
   "execution_count": 45,
   "metadata": {},
   "outputs": [],
   "source": [
    "iv = ['Status_Marriedcivspouse','Ed','CapGain','Occupation_Execmanagerial','CapLoss','HWeek',\n",
    "'Age','Occupation_Profspecialty','Education_Primary','Workclass_Selfempinc','Workclass_Private','Sex_Female',\n",
    "'Relationship_Husband','fnlgwt','Race_White','Education_Masters','Country_Poor','Education_Profschool',\n",
    "'Occupation_Otherservice','Education_Bachelors','Relationship_Ownchild']"
   ]
  },
  {
   "cell_type": "code",
   "execution_count": 46,
   "metadata": {},
   "outputs": [],
   "source": [
    "model = LogisticRegression()\n",
    "a = model.fit(Xtrain[iv], Ttrain)\n",
    "\n",
    "model.fit(Xtrain[iv], Ttrain)\n",
    "Ytrain = model.predict(Xtrain[iv])\n",
    "Ytest = model.predict(Xtest[iv])\n",
    "\n",
    "#testess = model.predict_proba(Xtest_1)"
   ]
  },
  {
   "cell_type": "code",
   "execution_count": 47,
   "metadata": {},
   "outputs": [
    {
     "data": {
      "text/plain": [
       "array([[  3.71160725e-03,  -2.33375845e-03,   3.37194647e-04,\n",
       "          1.12511794e-03,   7.77102583e-04,  -1.01525382e-02,\n",
       "         -4.87717924e-03,   8.94197038e-04,  -1.27469198e-03,\n",
       "          3.77019356e-04,  -1.87317422e-03,  -2.72804766e-03,\n",
       "          3.33849467e-03,  -3.69920593e-06,  -9.97362043e-04,\n",
       "          6.22204857e-04,  -3.32428535e-04,   2.90869571e-04,\n",
       "         -1.12132941e-03,   9.86345986e-04,  -2.01858305e-03]])"
      ]
     },
     "execution_count": 47,
     "metadata": {},
     "output_type": "execute_result"
    }
   ],
   "source": [
    "a.coef_"
   ]
  },
  {
   "cell_type": "code",
   "execution_count": 49,
   "metadata": {},
   "outputs": [
    {
     "name": "stdout",
     "output_type": "stream",
     "text": [
      "\n",
      "\n",
      " ---Base de Treinamento---\n",
      "\n",
      "\n",
      " ---Matriz de Confusão---\n",
      "[[23918   802]\n",
      " [ 5780  2061]]\n",
      "\n",
      "\n",
      " ---Logistic Model---\n",
      "Logistic AUC = 0.62\n",
      "             precision    recall  f1-score   support\n",
      "\n",
      "          0       0.81      0.97      0.88     24720\n",
      "          1       0.72      0.26      0.39      7841\n",
      "\n",
      "avg / total       0.78      0.80      0.76     32561\n",
      "\n"
     ]
    }
   ],
   "source": [
    "#Calculando confusion matrix, AUC, precision e recall para base de treinamento\n",
    "cnf_matrix = confusion_matrix(Ttrain, Ytrain)\n",
    "print (\"\\n\\n ---Base de Treinamento---\")\n",
    "print (\"\\n\\n ---Matriz de Confusão---\")\n",
    "print(cnf_matrix)\n",
    "print (\"\\n\\n ---Logistic Model---\")\n",
    "logit_roc_auc = roc_auc_score(Ttrain, model.predict(Xtrain[iv]))\n",
    "print (\"Logistic AUC = %2.2f\" % logit_roc_auc)\n",
    "print(classification_report(Ttrain, Ytrain))"
   ]
  },
  {
   "cell_type": "code",
   "execution_count": 50,
   "metadata": {},
   "outputs": [
    {
     "name": "stdout",
     "output_type": "stream",
     "text": [
      "\n",
      "\n",
      " ---Base de Teste---\n",
      "\n",
      "\n",
      " ---Matriz de Confusão---\n",
      "[[12021   414]\n",
      " [ 2848   998]]\n",
      "\n",
      "\n",
      " ---Logistic Model---\n",
      "Logistic AUC = 0.61\n",
      "             precision    recall  f1-score   support\n",
      "\n",
      "          0       0.81      0.97      0.88     12435\n",
      "          1       0.71      0.26      0.38      3846\n",
      "\n",
      "avg / total       0.78      0.80      0.76     16281\n",
      "\n"
     ]
    }
   ],
   "source": [
    "#Calculando AUC, precision e recall para base de teste\n",
    "cnf_matrix = confusion_matrix(Ttest, Ytest)\n",
    "print (\"\\n\\n ---Base de Teste---\")\n",
    "print (\"\\n\\n ---Matriz de Confusão---\")\n",
    "print(cnf_matrix)\n",
    "print (\"\\n\\n ---Logistic Model---\")\n",
    "logit_roc_auc = roc_auc_score(Ttest, model.predict(Xtest[iv]))\n",
    "print (\"Logistic AUC = %2.2f\" % logit_roc_auc)\n",
    "print(classification_report(Ttest, Ytest))"
   ]
  },
  {
   "cell_type": "code",
   "execution_count": 51,
   "metadata": {},
   "outputs": [
    {
     "data": {
      "image/png": "[encoded data removed]",
      "text/plain": [
       "<matplotlib.figure.Figure at 0x2aa2e58ee80>"
      ]
     },
     "metadata": {},
     "output_type": "display_data"
    }
   ],
   "source": [
    "#plotando curva ROC para a base de treinamento\n",
    "fpr, tpr, thresholds = roc_curve(Ttrain, model.predict_proba(Xtrain[iv])[:,1])\n",
    "plt.figure()\n",
    "plt.plot(fpr, tpr, label='Train(area = %0.2f)' % logit_roc_auc)\n",
    "\n",
    "#plotando o curva ROC para a base de teste\n",
    "fpr, tpr, thresholds = roc_curve(Ttest, model.predict_proba(Xtest[iv])[:,1])\n",
    "plt.plot(fpr, tpr, label='Test(area = %0.2f)' % logit_roc_auc)\n",
    "\n",
    "plt.xlim([0.0, 1.0])\n",
    "plt.ylim([0.0, 1.05])\n",
    "plt.xlabel('False Positive Rate')\n",
    "plt.ylabel('True Positive Rate')\n",
    "plt.title('ROC Graph')\n",
    "plt.legend(loc=\"lower right\")\n",
    "plt.show()"
   ]
  },
  {
   "cell_type": "markdown",
   "metadata": {},
   "source": [
    "### usando statsmodel"
   ]
  },
  {
   "cell_type": "code",
   "execution_count": 52,
   "metadata": {},
   "outputs": [
    {
     "name": "stdout",
     "output_type": "stream",
     "text": [
      "Optimization terminated successfully.\n",
      "         Current function value: 0.353664\n",
      "         Iterations 9\n"
     ]
    },
    {
     "data": {
      "text/html": [
       "<table class=\"simpletable\">\n",
       "<tr>\n",
       "        <td>Model:</td>              <td>Logit</td>       <td>No. Iterations:</td>    <td>9.0000</td>  \n",
       "</tr>\n",
       "<tr>\n",
       "  <td>Dependent Variable:</td>      <td>Income</td>      <td>Pseudo R-squared:</td>    <td>0.359</td>  \n",
       "</tr>\n",
       "<tr>\n",
       "         <td>Date:</td>        <td>2018-05-04 23:21</td>       <td>AIC:</td>        <td>23073.3356</td>\n",
       "</tr>\n",
       "<tr>\n",
       "   <td>No. Observations:</td>        <td>32561</td>            <td>BIC:</td>        <td>23249.5439</td>\n",
       "</tr>\n",
       "<tr>\n",
       "       <td>Df Model:</td>             <td>20</td>         <td>Log-Likelihood:</td>    <td>-11516.</td> \n",
       "</tr>\n",
       "<tr>\n",
       "     <td>Df Residuals:</td>          <td>32540</td>          <td>LL-Null:</td>        <td>-17974.</td> \n",
       "</tr>\n",
       "<tr>\n",
       "      <td>Converged:</td>           <td>1.0000</td>           <td>Scale:</td>         <td>1.0000</td>  \n",
       "</tr>\n",
       "</table>\n",
       "<table class=\"simpletable\">\n",
       "<tr>\n",
       "              <td></td>               <th>Coef.</th>  <th>Std.Err.</th>     <th>z</th>     <th>P>|z|</th> <th>[0.025</th>  <th>0.975]</th> \n",
       "</tr>\n",
       "<tr>\n",
       "  <th>Status_Marriedcivspouse</th>   <td>2.6771</td>   <td>0.0757</td>   <td>35.3666</td> <td>0.0000</td> <td>2.5287</td>  <td>2.8254</td> \n",
       "</tr>\n",
       "<tr>\n",
       "  <th>Ed</th>                        <td>-0.2224</td>  <td>0.0096</td>  <td>-23.1670</td> <td>0.0000</td> <td>-0.2413</td> <td>-0.2036</td>\n",
       "</tr>\n",
       "<tr>\n",
       "  <th>CapGain</th>                   <td>0.0003</td>   <td>0.0000</td>   <td>31.8738</td> <td>0.0000</td> <td>0.0003</td>  <td>0.0003</td> \n",
       "</tr>\n",
       "<tr>\n",
       "  <th>Occupation_Execmanagerial</th> <td>0.9131</td>   <td>0.0470</td>   <td>19.4283</td> <td>0.0000</td> <td>0.8210</td>  <td>1.0052</td> \n",
       "</tr>\n",
       "<tr>\n",
       "  <th>CapLoss</th>                   <td>0.0007</td>   <td>0.0000</td>   <td>19.0496</td> <td>0.0000</td> <td>0.0006</td>  <td>0.0007</td> \n",
       "</tr>\n",
       "<tr>\n",
       "  <th>HWeek</th>                     <td>0.0050</td>   <td>0.0014</td>   <td>3.6265</td>  <td>0.0003</td> <td>0.0023</td>  <td>0.0076</td> \n",
       "</tr>\n",
       "<tr>\n",
       "  <th>Age</th>                       <td>0.0011</td>   <td>0.0013</td>   <td>0.8152</td>  <td>0.4150</td> <td>-0.0015</td> <td>0.0037</td> \n",
       "</tr>\n",
       "<tr>\n",
       "  <th>Occupation_Profspecialty</th>  <td>0.8646</td>   <td>0.0529</td>   <td>16.3424</td> <td>0.0000</td> <td>0.7609</td>  <td>0.9683</td> \n",
       "</tr>\n",
       "<tr>\n",
       "  <th>Education_Primary</th>         <td>-2.2263</td>  <td>0.0876</td>  <td>-25.4237</td> <td>0.0000</td> <td>-2.3979</td> <td>-2.0546</td>\n",
       "</tr>\n",
       "<tr>\n",
       "  <th>Workclass_Selfempinc</th>      <td>0.4802</td>   <td>0.0834</td>   <td>5.7604</td>  <td>0.0000</td> <td>0.3168</td>  <td>0.6435</td> \n",
       "</tr>\n",
       "<tr>\n",
       "  <th>Workclass_Private</th>         <td>-0.0883</td>  <td>0.0364</td>   <td>-2.4262</td> <td>0.0153</td> <td>-0.1597</td> <td>-0.0170</td>\n",
       "</tr>\n",
       "<tr>\n",
       "  <th>Sex_Female</th>                <td>-1.0682</td>  <td>0.0654</td>  <td>-16.3203</td> <td>0.0000</td> <td>-1.1964</td> <td>-0.9399</td>\n",
       "</tr>\n",
       "<tr>\n",
       "  <th>Relationship_Husband</th>      <td>-1.0980</td>  <td>0.0866</td>  <td>-12.6799</td> <td>0.0000</td> <td>-1.2678</td> <td>-0.9283</td>\n",
       "</tr>\n",
       "<tr>\n",
       "  <th>fnlgwt</th>                    <td>-0.0000</td>  <td>0.0000</td>   <td>-4.2022</td> <td>0.0000</td> <td>-0.0000</td> <td>-0.0000</td>\n",
       "</tr>\n",
       "<tr>\n",
       "  <th>Race_White</th>                <td>-0.3535</td>  <td>0.0497</td>   <td>-7.1152</td> <td>0.0000</td> <td>-0.4509</td> <td>-0.2561</td>\n",
       "</tr>\n",
       "<tr>\n",
       "  <th>Education_Masters</th>         <td>1.8663</td>   <td>0.0791</td>   <td>23.5843</td> <td>0.0000</td> <td>1.7112</td>  <td>2.0214</td> \n",
       "</tr>\n",
       "<tr>\n",
       "  <th>Country_Poor</th>              <td>-1.2604</td>  <td>0.1277</td>   <td>-9.8700</td> <td>0.0000</td> <td>-1.5107</td> <td>-1.0101</td>\n",
       "</tr>\n",
       "<tr>\n",
       "  <th>Education_Profschool</th>      <td>2.4680</td>   <td>0.1329</td>   <td>18.5670</td> <td>0.0000</td> <td>2.2075</td>  <td>2.7285</td> \n",
       "</tr>\n",
       "<tr>\n",
       "  <th>Occupation_Otherservice</th>   <td>-1.0943</td>  <td>0.0993</td>  <td>-11.0204</td> <td>0.0000</td> <td>-1.2889</td> <td>-0.8996</td>\n",
       "</tr>\n",
       "<tr>\n",
       "  <th>Education_Bachelors</th>       <td>1.3656</td>   <td>0.0541</td>   <td>25.2343</td> <td>0.0000</td> <td>1.2595</td>  <td>1.4717</td> \n",
       "</tr>\n",
       "<tr>\n",
       "  <th>Relationship_Ownchild</th>     <td>-2.1086</td>  <td>0.1400</td>  <td>-15.0638</td> <td>0.0000</td> <td>-2.3829</td> <td>-1.8342</td>\n",
       "</tr>\n",
       "</table>"
      ],
      "text/plain": [
       "<class 'statsmodels.iolib.summary2.Summary'>\n",
       "\"\"\"\n",
       "                              Results: Logit\n",
       "==========================================================================\n",
       "Model:                 Logit               No. Iterations:      9.0000    \n",
       "Dependent Variable:    Income              Pseudo R-squared:    0.359     \n",
       "Date:                  2018-05-04 23:21    AIC:                 23073.3356\n",
       "No. Observations:      32561               BIC:                 23249.5439\n",
       "Df Model:              20                  Log-Likelihood:      -11516.   \n",
       "Df Residuals:          32540               LL-Null:             -17974.   \n",
       "Converged:             1.0000              Scale:               1.0000    \n",
       "--------------------------------------------------------------------------\n",
       "                           Coef.  Std.Err.    z     P>|z|   [0.025  0.975]\n",
       "--------------------------------------------------------------------------\n",
       "Status_Marriedcivspouse    2.6771   0.0757  35.3666 0.0000  2.5287  2.8254\n",
       "Ed                        -0.2224   0.0096 -23.1670 0.0000 -0.2413 -0.2036\n",
       "CapGain                    0.0003   0.0000  31.8738 0.0000  0.0003  0.0003\n",
       "Occupation_Execmanagerial  0.9131   0.0470  19.4283 0.0000  0.8210  1.0052\n",
       "CapLoss                    0.0007   0.0000  19.0496 0.0000  0.0006  0.0007\n",
       "HWeek                      0.0050   0.0014   3.6265 0.0003  0.0023  0.0076\n",
       "Age                        0.0011   0.0013   0.8152 0.4150 -0.0015  0.0037\n",
       "Occupation_Profspecialty   0.8646   0.0529  16.3424 0.0000  0.7609  0.9683\n",
       "Education_Primary         -2.2263   0.0876 -25.4237 0.0000 -2.3979 -2.0546\n",
       "Workclass_Selfempinc       0.4802   0.0834   5.7604 0.0000  0.3168  0.6435\n",
       "Workclass_Private         -0.0883   0.0364  -2.4262 0.0153 -0.1597 -0.0170\n",
       "Sex_Female                -1.0682   0.0654 -16.3203 0.0000 -1.1964 -0.9399\n",
       "Relationship_Husband      -1.0980   0.0866 -12.6799 0.0000 -1.2678 -0.9283\n",
       "fnlgwt                    -0.0000   0.0000  -4.2022 0.0000 -0.0000 -0.0000\n",
       "Race_White                -0.3535   0.0497  -7.1152 0.0000 -0.4509 -0.2561\n",
       "Education_Masters          1.8663   0.0791  23.5843 0.0000  1.7112  2.0214\n",
       "Country_Poor              -1.2604   0.1277  -9.8700 0.0000 -1.5107 -1.0101\n",
       "Education_Profschool       2.4680   0.1329  18.5670 0.0000  2.2075  2.7285\n",
       "Occupation_Otherservice   -1.0943   0.0993 -11.0204 0.0000 -1.2889 -0.8996\n",
       "Education_Bachelors        1.3656   0.0541  25.2343 0.0000  1.2595  1.4717\n",
       "Relationship_Ownchild     -2.1086   0.1400 -15.0638 0.0000 -2.3829 -1.8342\n",
       "==========================================================================\n",
       "\n",
       "\"\"\""
      ]
     },
     "execution_count": 52,
     "metadata": {},
     "output_type": "execute_result"
    }
   ],
   "source": [
    "#modelo com variáveis obtidas do método forward\n",
    "logReg = sm.Logit(Ttrain, Xtrain[iv])\n",
    "\n",
    "#Ytrain = logReg.predict(Xtrain[iv])\n",
    "#Ytest = logReg.predict(Xtest)\n",
    "answer = logReg.fit()\n",
    "\n",
    "answer.summary2()"
   ]
  },
  {
   "cell_type": "code",
   "execution_count": 53,
   "metadata": {},
   "outputs": [
    {
     "name": "stdout",
     "output_type": "stream",
     "text": [
      "Area under the ROC curve Train : 0.878363\n",
      "Area under the ROC curve Test : 0.879705\n"
     ]
    }
   ],
   "source": [
    "#calculando valor predito das bases de treinamento e validação\n",
    "Ytrain = answer.predict(Xtrain[iv])\n",
    "\n",
    "fpr1, tpr1, thresholds =roc_curve(Ttrain, Ytrain)\n",
    "roc_auc1 = auc(fpr1, tpr1)\n",
    "print(\"Area under the ROC curve Train : %f\" % roc_auc1)\n",
    "\n",
    "Ytest = answer.predict(Xtest[iv])\n",
    "\n",
    "fpr2, tpr2, thresholds =roc_curve(Ttest, Ytest)\n",
    "roc_auc2 = auc(fpr2, tpr2)\n",
    "print(\"Area under the ROC curve Test : %f\" % roc_auc2)"
   ]
  },
  {
   "cell_type": "code",
   "execution_count": 54,
   "metadata": {},
   "outputs": [
    {
     "data": {
      "image/png": "[encoded data removed]",
      "text/plain": [
       "<matplotlib.figure.Figure at 0x2aa2e8b7b70>"
      ]
     },
     "metadata": {},
     "output_type": "display_data"
    }
   ],
   "source": [
    "#plotando a curva ROC para as bases de treinamento e validação\n",
    "plt.plot(fpr1, tpr1)\n",
    "plt.plot(fpr2, tpr2)\n",
    "plt.plot()\n",
    "plt.xlim([0.0, 1.0])\n",
    "plt.ylim([0.0, 1.05])\n",
    "plt.xlabel('False Positive Rate')\n",
    "plt.ylabel('True Positive Rate')\n",
    "plt.title('ROC Graph')\n",
    "plt.legend([\"Train: \" + str(roc_auc1), \"Test: \" + str(roc_auc2)  ],  loc=\"lower right\")\n",
    "plt.show()"
   ]
  },
  {
   "cell_type": "markdown",
   "metadata": {},
   "source": [
    "# logistic regression definition\n",
    "### logit(p) = ax + bx1 + cx2 + ...\n",
    "### p = 1 / (1 + e^(ax + bx1 + ...))"
   ]
  },
  {
   "cell_type": "code",
   "execution_count": null,
   "metadata": {
    "collapsed": true
   },
   "outputs": [],
   "source": [
    "razão de chances estimada de cada variável\n",
    "ODDS RATIO = e^a"
   ]
  },
  {
   "cell_type": "code",
   "execution_count": null,
   "metadata": {
    "collapsed": true
   },
   "outputs": [],
   "source": [
    "Y = ax1+bx2+cx3 + d\n",
    "análise multivariável, ou regressão multivariável. "
   ]
  },
  {
   "cell_type": "code",
   "execution_count": null,
   "metadata": {
    "collapsed": true
   },
   "outputs": [],
   "source": [
    "não é uma imposição, mas costuma-se (em quase 100% das vezes) \n",
    "utilizar-se da regressão logística quando o desfecho é binário.\n",
    "\n",
    "quando o y só pode ter dois valores (0 ou 1) temos algo assim:"
   ]
  },
  {
   "attachments": {
    "image.png": {
     "image/png": "[encoded data removed]"
    }
   },
   "cell_type": "markdown",
   "metadata": {},
   "source": [
    "![image.png](attachment:image.png)"
   ]
  },
  {
   "cell_type": "code",
   "execution_count": null,
   "metadata": {
    "collapsed": true
   },
   "outputs": [],
   "source": [
    "quando transformamos uma variável com valores 1 e 0 em proporções, \n",
    "o gráfico fica mais ou menos assim:"
   ]
  },
  {
   "attachments": {
    "image.png": {
     "image/png": "[encoded data removed]"
    }
   },
   "cell_type": "markdown",
   "metadata": {},
   "source": [
    "![image.png](attachment:image.png)"
   ]
  },
  {
   "attachments": {
    "image.png": {
     "image/png": "[encoded data removed]"
    }
   },
   "cell_type": "markdown",
   "metadata": {},
   "source": [
    "e essa curva pode ser escrita em forma de função: ![image.png](attachment:image.png)"
   ]
  },
  {
   "cell_type": "code",
   "execution_count": null,
   "metadata": {
    "collapsed": true
   },
   "outputs": [],
   "source": [
    "ela descreve uma curva em S, \n",
    "que continua mantendo uma relação entre y e x, em que y é a proporção de eventos para cada x."
   ]
  },
  {
   "cell_type": "code",
   "execution_count": null,
   "metadata": {
    "collapsed": true
   },
   "outputs": [],
   "source": [
    "como uma curva em S é muito difícil de interpretar,\n",
    "foi criado um artifício para torná-la uma reta novamente. \n",
    "\n",
    "transforma-se o y em uma chance (ou seja, y/1-y) \n",
    "e extrai-se o logaritmo natural dos dois lados da igualdade. \n",
    "\n",
    "o resultado disso é ax+b.\n",
    "como b é uma constante, podemos desprezá-lo.\n",
    "\n",
    "isso é igual a:"
   ]
  },
  {
   "attachments": {
    "image.png": {
     "image/png": "[encoded data removed]"
    }
   },
   "cell_type": "markdown",
   "metadata": {},
   "source": [
    "![image.png](attachment:image.png)"
   ]
  },
  {
   "cell_type": "code",
   "execution_count": null,
   "metadata": {
    "collapsed": true
   },
   "outputs": [],
   "source": [
    "se dividirmos a chance do evento pela chance do não-evento, \n",
    "obteremos o ODDS RATIO, para cada aumento de uma unidade do x. \n",
    "\n",
    "matematicamente, isso é assim:"
   ]
  },
  {
   "attachments": {
    "image.png": {
     "image/png": "[encoded data removed]"
    }
   },
   "cell_type": "markdown",
   "metadata": {},
   "source": [
    "![image.png](attachment:image.png)"
   ]
  },
  {
   "cell_type": "code",
   "execution_count": null,
   "metadata": {
    "collapsed": true
   },
   "outputs": [],
   "source": [
    "como o número de Euler é um número conhecido, \n",
    "o grande trunfo da regressão logística é calcular o valor de a, que, \n",
    "estima o ODDS RATIO de uma variável para um desfecho. "
   ]
  },
  {
   "cell_type": "code",
   "execution_count": null,
   "metadata": {
    "collapsed": true
   },
   "outputs": [],
   "source": [
    "se utilizarmos várias variáveis, \n",
    "a regressão logística irá calcular os parâmetros (os valores a) de cada variável, \n",
    "de modo que o ODDS RATIO total será:"
   ]
  },
  {
   "attachments": {
    "image.png": {
     "image/png": "[encoded data removed]"
    }
   },
   "cell_type": "markdown",
   "metadata": {},
   "source": [
    "![image.png](attachment:image.png)"
   ]
  },
  {
   "cell_type": "code",
   "execution_count": null,
   "metadata": {
    "collapsed": true
   },
   "outputs": [],
   "source": []
  }
 ],
 "metadata": {
  "kernelspec": {
   "display_name": "Python 3",
   "language": "python",
   "name": "python3"
  },
  "language_info": {
   "codemirror_mode": {
    "name": "ipython",
    "version": 3
   },
   "file_extension": ".py",
   "mimetype": "text/x-python",
   "name": "python",
   "nbconvert_exporter": "python",
   "pygments_lexer": "ipython3",
   "version": "3.6.4"
  }
 },
 "nbformat": 4,
 "nbformat_minor": 2
}

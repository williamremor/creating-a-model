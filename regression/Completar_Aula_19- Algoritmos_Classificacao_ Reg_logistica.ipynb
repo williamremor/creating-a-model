{
 "cells": [
  {
   "cell_type": "markdown",
   "metadata": {},
   "source": [
    "# DESAFIO - Aula_19: Algoritmos de Classificação: Regressão logística"
   ]
  },
  {
   "cell_type": "markdown",
   "metadata": {},
   "source": [
    "Base de Dados <br>\n",
    "Link: https://raw.githubusercontent.com/madmashup/targeted-marketing-predictive-engine/master/banking.csv <br>\n",
    "Resumo: O conjunto de dados está relacionado a campanhas de marketing direto (chamadas telefônicas) de uma instituição bancária portuguesa. A variável resposta (y) é binária e indica se o cliente subscreveu um depósito a prazo (1-Sim, 0-Não). <br>\n",
    "Objetivo: Ajustar um modelo de regressão logística, em uma base de treinamento, para a resposta binária, fazer a previsão desta resposta e avaliar a qualidade de ajuste do modelo em uma base de teste.\n"
   ]
  },
  {
   "cell_type": "markdown",
   "metadata": {
    "_cell_guid": "8db8ec39-0419-4989-a9cc-90cc4c08c35b",
    "_uuid": "321134977aaf497b0d1e99e10652480fa1ffcea2"
   },
   "source": [
    "## Importando os Dados"
   ]
  },
  {
   "cell_type": "code",
   "execution_count": null,
   "metadata": {
    "_cell_guid": "b3c7994c-c402-4a78-a65f-d44fe4f6f375",
    "_kg_hide-input": false,
    "_uuid": "2d3d846b4daf6c81aaef2026dd4411c02e6f84a0",
    "collapsed": true
   },
   "outputs": [],
   "source": [
    "import pandas as pd\n",
    "pd.set_option('display.max_columns', 500)\n",
    "import numpy as np\n",
    "from sklearn import preprocessing\n",
    "import matplotlib.pyplot as plt \n",
    "plt.rc(\"font\", size=14)\n",
    "from sklearn.linear_model import LogisticRegression\n",
    "from sklearn.model_selection import train_test_split\n",
    "import seaborn as sns\n",
    "sns.set(style=\"white\")\n",
    "sns.set(style=\"whitegrid\", color_codes=True)\n"
   ]
  },
  {
   "cell_type": "code",
   "execution_count": null,
   "metadata": {},
   "outputs": [],
   "source": [
    "data = pd.read_csv('__________________________________/banking.csv',header=0)\n",
    "\n",
    "#drop na\n",
    "data = data.dropna()\n",
    "lista = ('age','education','contact','month','day_of_week','duration',\n",
    "        'campaign','pdays','previous','emp_var_rate','cons_price_idx','cons_conf_idx', \n",
    "        'euribor3m','nr_employed')\n",
    "#exclui algumas variáveis da análise\n",
    "for col in lista:\n",
    "    data.drop(col, axis=1, inplace=True)\n",
    "    \n",
    "print(data.shape)"
   ]
  },
  {
   "cell_type": "markdown",
   "metadata": {},
   "source": [
    "O conjunto de dados fornece a informação dos clientes do banco. Inclui ________ registros e __________ variáveis."
   ]
  },
  {
   "cell_type": "code",
   "execution_count": null,
   "metadata": {
    "_cell_guid": "1ebefc56-485c-441f-be5d-caba6ad546a0",
    "_uuid": "7bbac22afe972c60cc5dcf164d681faca6a2d8ac",
    "scrolled": false
   },
   "outputs": [],
   "source": [
    "data.head()"
   ]
  },
  {
   "cell_type": "markdown",
   "metadata": {
    "_cell_guid": "ec4d5159-2bd1-4383-8c96-1a378f5c1b23",
    "_uuid": "08f83972554476f03e75c00970367f46452b42c0"
   },
   "source": [
    "# Parte_1A: Analisando as Variáveis Input - Missing/Categóricas"
   ]
  },
  {
   "cell_type": "markdown",
   "metadata": {
    "_cell_guid": "2096221b-88a1-4558-b7d8-ee21c056b130",
    "_uuid": "eca6ef331b4d47364b1844affc54d4ffc3048bf4"
   },
   "source": [
    "- ## Var resposta"
   ]
  },
  {
   "cell_type": "markdown",
   "metadata": {
    "_cell_guid": "885d99a7-1656-4c5e-90be-e15b97766fe8",
    "_uuid": "823aeafc3ca8ede27011f5beddad0c1c87efd260"
   },
   "source": [
    "Transformando a variável Income-Renda em 0's and 1's"
   ]
  },
  {
   "cell_type": "code",
   "execution_count": null,
   "metadata": {
    "_cell_guid": "04dec68c-f9db-42bd-9b8d-878cbf5b2c05",
    "_uuid": "52d410e203ae97ca32b997cd0d10d296d2f63928"
   },
   "outputs": [],
   "source": [
    "# grafico de barras para a variável dependente\n",
    "sns.countplot(x='y',data=data, palette='hls')\n",
    "plt.show()"
   ]
  },
  {
   "cell_type": "markdown",
   "metadata": {},
   "source": [
    "A proporção de 1's é de aproximandamente 14%"
   ]
  },
  {
   "cell_type": "markdown",
   "metadata": {
    "_cell_guid": "034833de-e837-4c9e-81a9-b1d56b895f15",
    "_uuid": "a6fedc55a325add259597425b310f85ccda513f4"
   },
   "source": [
    "- ## Verificando valores missing"
   ]
  },
  {
   "cell_type": "code",
   "execution_count": null,
   "metadata": {
    "_cell_guid": "ab849813-536c-474a-95e5-215ae2749458",
    "_uuid": "c9932893baa3d9bde9bb3b92eca40472c3b6fd6a"
   },
   "outputs": [],
   "source": [
    "# verificando quantidade de missing para cada var\n",
    "data._____________().sum()"
   ]
  },
  {
   "cell_type": "markdown",
   "metadata": {
    "_cell_guid": "75a1c801-c9f7-4fcc-93fa-50e346ade08a",
    "_uuid": "d4d76fcc375f3947c17c6364a945b4915edd8574"
   },
   "source": [
    "Não há dados missing na base de análise"
   ]
  },
  {
   "cell_type": "markdown",
   "metadata": {
    "_cell_guid": "5e44634b-d192-4442-8de7-1a24ce200475",
    "_uuid": "97cb96247a0520939272c7e2b2da67bd53ede896"
   },
   "source": [
    "- ## job: trabalho do cliente"
   ]
  },
  {
   "cell_type": "markdown",
   "metadata": {
    "_cell_guid": "98eb40cc-f8aa-48e0-ba52-26c0bc89d78b",
    "_uuid": "530086783bf1a3c3ab7bfe6f642e4028adc8b711"
   },
   "source": [
    "Tem muitas linhas missing, então vamos colocá-las em uma nova classe, substituindo por 0 e ver como fica o gráfico"
   ]
  },
  {
   "cell_type": "code",
   "execution_count": null,
   "metadata": {
    "_cell_guid": "f1821696-1219-4211-9636-c4540d9e622a",
    "_uuid": "0f969a072c10e0dd07823fa8ba84ed16595c391d"
   },
   "outputs": [],
   "source": [
    "# grafico de barras para a variável customer job \n",
    "sns.countplot(y='job',data=data)\n",
    "plt.show()\n",
    "#há muitas categorias: vamos agrupar as classes que tem menos obs"
   ]
  },
  {
   "cell_type": "code",
   "execution_count": null,
   "metadata": {
    "collapsed": true
   },
   "outputs": [],
   "source": [
    "# unindo as categorias de trabalho, para depois não criar muitas dummys\n",
    "def agrupa(job):\n",
    "    if job in ['blue-collar']:\n",
    "        return 'blue_collar'\n",
    "    elif job in ['technician']:\n",
    "        return 'technician'\n",
    "    elif job in ['admin.']:\n",
    "        return 'admin' \n",
    "    elif job in ['management']:\n",
    "        return 'management'\n",
    "    elif job in ['services']:\n",
    "        return 'services'\n",
    "    \n",
    "    else: \n",
    "        return 'other'    "
   ]
  },
  {
   "cell_type": "code",
   "execution_count": null,
   "metadata": {
    "collapsed": true
   },
   "outputs": [],
   "source": [
    "data['job'] = data['job'].____________(agrupa)"
   ]
  },
  {
   "cell_type": "markdown",
   "metadata": {
    "_cell_guid": "43adeb81-92b3-4944-94dc-9f90a070b30b",
    "_uuid": "aca3f137e82cb3b74c83ca849cb21ae807cae501"
   },
   "source": [
    "- ## Marital: estado civil"
   ]
  },
  {
   "cell_type": "markdown",
   "metadata": {
    "_cell_guid": "e543e806-9b60-4a45-a13c-b505cf1497d3",
    "_uuid": "bb89efabe500e37d6897d017069335a32f0acf3d"
   },
   "source": [
    "A categoria unknown tem poucas obs - vamos juntá-la com a cat divorced"
   ]
  },
  {
   "cell_type": "code",
   "execution_count": null,
   "metadata": {
    "collapsed": true
   },
   "outputs": [],
   "source": [
    "def agrupa1(marital):\n",
    "    if marital in ['unknown']:\n",
    "        return 'divorced'\n",
    "    else: \n",
    "        return marital   "
   ]
  },
  {
   "cell_type": "code",
   "execution_count": null,
   "metadata": {
    "collapsed": true
   },
   "outputs": [],
   "source": [
    "data['marital'] = ___________['marital'].apply(agrupa1)"
   ]
  },
  {
   "cell_type": "markdown",
   "metadata": {
    "_cell_guid": "e5f73d58-8f8b-412a-b113-b92b6f0e644e",
    "_uuid": "cca65f789aeb81eba03e816b0f1f36ecbd534836"
   },
   "source": [
    "- ## Default - crédito em default"
   ]
  },
  {
   "cell_type": "markdown",
   "metadata": {},
   "source": [
    "A categoria yes tem poucas obs - vamos juntá-la com a cat unknown"
   ]
  },
  {
   "cell_type": "code",
   "execution_count": null,
   "metadata": {
    "collapsed": true
   },
   "outputs": [],
   "source": [
    "def agrupa2(default):\n",
    "    if default in ['yes']:\n",
    "        return 'unknown'\n",
    "    else: \n",
    "        return default   "
   ]
  },
  {
   "cell_type": "code",
   "execution_count": null,
   "metadata": {
    "collapsed": true
   },
   "outputs": [],
   "source": [
    "data['default'] = data['default'].apply(_____________)"
   ]
  },
  {
   "cell_type": "markdown",
   "metadata": {
    "_cell_guid": "b693d9ca-29e1-4082-8e3b-89d94fa742cd",
    "_uuid": "b11ee5d40519b9f84ec22c910d579caea92f2e71"
   },
   "source": [
    "## Parte_1B: Criando Dummys"
   ]
  },
  {
   "cell_type": "markdown",
   "metadata": {
    "_cell_guid": "ffef248c-214b-4b45-b7f8-05df2ad4925d",
    "_uuid": "b033aef5b53ac393eaec632186c774938d384820"
   },
   "source": [
    "Crie variáveis dummy, que são variáveis com apenas dois valores, zero e um. <br>\n",
    "Nos modelos de regressão logística, a codificação de todas as variáveis independentes-categoricas como variáveis dummy permite uma fácil interpretação e cálculo da odds ratios e aumenta a estabilidade e a importância dos coeficientes."
   ]
  },
  {
   "cell_type": "code",
   "execution_count": null,
   "metadata": {},
   "outputs": [],
   "source": [
    "data.dtypes"
   ]
  },
  {
   "cell_type": "code",
   "execution_count": null,
   "metadata": {
    "_cell_guid": "525cd5ec-17f2-4c25-8a07-89c594d64fc8",
    "_uuid": "57a74825249a144bdeb6acec4039f91559c77b10",
    "scrolled": false
   },
   "outputs": [],
   "source": [
    "#list of columns with dtype: object\n",
    "#axes[1] coluna\n",
    "#axes[0] linha\n",
    "categorical_features = data.select_dtypes(include=['____________']).axes[1] # retorna as vars que são do tipo objeto\n",
    "\n",
    "# unique: retorna os valores únicos\n",
    "# nunique: retorna o número de valores únicos\n",
    "for col in categorical_features:\n",
    "    print (col, data[col].nunique()) # retorna as vars que são do tipo objeto e a quantidade de categorias em cada uma delas"
   ]
  },
  {
   "cell_type": "code",
   "execution_count": null,
   "metadata": {
    "_cell_guid": "5c64f48a-a3ec-4918-9794-fbe9287c0fd5",
    "_uuid": "8110d73345f22085c35184cfbfa053eff9124416",
    "collapsed": true
   },
   "outputs": [],
   "source": [
    "#criando dummys para as variáveis categoricas\n",
    "for col in categorical_features:\n",
    "    data = pd.concat([data, pd.________________(data[col], prefix=col, prefix_sep='_')], axis=1)\n",
    "    data.drop(col, axis=1, inplace=True)"
   ]
  },
  {
   "cell_type": "code",
   "execution_count": null,
   "metadata": {},
   "outputs": [],
   "source": [
    "data.columns"
   ]
  },
  {
   "cell_type": "code",
   "execution_count": null,
   "metadata": {},
   "outputs": [],
   "source": [
    "data.head()"
   ]
  },
  {
   "cell_type": "markdown",
   "metadata": {},
   "source": [
    "## Parte_1C: Verificando a correlação entre as variáveis input"
   ]
  },
  {
   "cell_type": "code",
   "execution_count": null,
   "metadata": {},
   "outputs": [],
   "source": [
    "data1 = data.drop('y', axis=1)\n",
    "sns.______________(data1.corr())\n",
    "plt.show()"
   ]
  },
  {
   "cell_type": "markdown",
   "metadata": {},
   "source": [
    "As variáveis input não aparentam alta correlação, desta maneira podemos seguir com todas as variáveis para a análise"
   ]
  },
  {
   "cell_type": "markdown",
   "metadata": {
    "_cell_guid": "e761bb22-08fd-45f2-9b9f-846388186765",
    "_uuid": "f6ea7a7add55dbdeedb5714118bb247e08273baf"
   },
   "source": [
    "## Parte_2: Dividindo a base em train e test"
   ]
  },
  {
   "cell_type": "code",
   "execution_count": null,
   "metadata": {
    "_cell_guid": "f0c7f381-f86e-4aed-947e-1284fcb14c75",
    "_uuid": "e7d9bfed3685ad7835bf5152c2cc7ce442dabc52",
    "collapsed": true
   },
   "outputs": [],
   "source": [
    "X = data.iloc[:,1:]\n",
    "y = data.iloc[:,0]\n",
    "X_train, ________, ____________, y_test = _______________(X, y, test_size=_________, random_state=__________)"
   ]
  },
  {
   "cell_type": "code",
   "execution_count": null,
   "metadata": {},
   "outputs": [],
   "source": [
    "print(X_train.shape, X_test.shape)"
   ]
  },
  {
   "cell_type": "markdown",
   "metadata": {},
   "source": [
    "## Parte_3: Metodo de seleção de variáveis forward"
   ]
  },
  {
   "cell_type": "code",
   "execution_count": null,
   "metadata": {
    "collapsed": true
   },
   "outputs": [],
   "source": [
    "#Metodo de seleção de variáveis forward usando statsmodels\n",
    "import statsmodels.formula.api as smf\n",
    "def forward_selected(data, response):\n",
    "    \"\"\"Linear model designed by forward selection.\n",
    "\n",
    "    Parameters:\n",
    "    -----------\n",
    "    data : pandas DataFrame with all possible predictors and response\n",
    "\n",
    "    response: string, name of response column in data\n",
    "\n",
    "    Returns:\n",
    "    --------\n",
    "    model: an \"optimal\" fitted statsmodels linear model\n",
    "           with an intercept\n",
    "           selected by forward selection\n",
    "           evaluated by adjusted R-squared\n",
    "    \"\"\"\n",
    "    remaining = set(data.columns)\n",
    "    remaining.remove(response)\n",
    "    selected = []\n",
    "    current_score, best_new_score = 0.0, 0.0\n",
    "    while remaining and current_score == best_new_score:\n",
    "        scores_with_candidates = []\n",
    "        for candidate in remaining:\n",
    "            formula = \"{} ~ {} + 1\".format(response,\n",
    "                                           ' + '.join(selected + [candidate]))\n",
    "            score = smf.ols(formula, data).fit().rsquared_adj\n",
    "            scores_with_candidates.append((score, candidate))\n",
    "        scores_with_candidates.sort()\n",
    "        best_new_score, best_candidate = scores_with_candidates.pop()\n",
    "        if current_score < best_new_score:\n",
    "            remaining.remove(best_candidate)\n",
    "            selected.append(best_candidate)\n",
    "            current_score = best_new_score\n",
    "    formula = \"{} ~ {} + 1\".format(response,\n",
    "                                   ' + '.join(selected))\n",
    "    model = smf.ols(formula, data).fit()\n",
    "    return model"
   ]
  },
  {
   "cell_type": "code",
   "execution_count": null,
   "metadata": {},
   "outputs": [],
   "source": [
    "#junta as bases para utilizar dentro da função forward_selected\n",
    "X1 = pd.concat([X_train,y_train], axis=1)\n",
    "X1.rename(columns={'y':'Income'}, inplace=True)\n",
    "X1.head()"
   ]
  },
  {
   "cell_type": "code",
   "execution_count": null,
   "metadata": {},
   "outputs": [],
   "source": [
    "#colocar para rodar quando for sair para o almoço\n",
    "#aplicando o método de seleção de variáveis forward\n",
    "\n",
    "model = __________________(X1, 'Income')\n",
    "print(model.model.formula)\n"
   ]
  },
  {
   "cell_type": "markdown",
   "metadata": {},
   "source": [
    "## Parte_4A: Ajustando um modelo de Regressão Logística usando statsmodels"
   ]
  },
  {
   "cell_type": "code",
   "execution_count": null,
   "metadata": {
    "_cell_guid": "94ee7e77-f1b1-4cc3-abbf-f5db8860e8ce",
    "_uuid": "355e170bffd21137c3fc9b6c0d6fceb5893952e4",
    "collapsed": true
   },
   "outputs": [],
   "source": [
    "from sklearn.linear_model import LogisticRegression\n",
    "from sklearn.metrics import classification_report\n",
    "from sklearn.model_selection import train_test_split\n",
    "from sklearn.metrics import accuracy_score, classification_report, precision_score, recall_score, confusion_matrix, precision_recall_curve\n",
    "from sklearn.metrics import roc_auc_score\n",
    "from sklearn.metrics import classification_report\n",
    "from sklearn.metrics import roc_curve, auc\n",
    "import statsmodels.api as sm\n",
    "import pylab as pl\n",
    "\n"
   ]
  },
  {
   "cell_type": "code",
   "execution_count": null,
   "metadata": {},
   "outputs": [],
   "source": [
    "# Vars selecionadas pelo método forward\n",
    "iv2 = ['poutcome_success' , 'default_no' , 'job_other' , 'poutcome_failure' , 'marital_single' , 'job_blue_collar' ,\n",
    "       'job_services' , 'job_technician' , 'marital_divorced']\n",
    "\n",
    "logReg = sm._____________(y_train, X_train[iv2])\n",
    "\n",
    "answer = logReg._____________()\n",
    "answer.summary2()"
   ]
  },
  {
   "cell_type": "code",
   "execution_count": null,
   "metadata": {},
   "outputs": [],
   "source": [
    "# Calculando o valor predito das bases de treinamento e validação\n",
    "#Base Treinamento\n",
    "p_train = answer.__________(X_train[iv2])\n",
    "\n",
    "fpr1, tpr1, thresholds =roc_curve(y_train, p_train)\n",
    "roc_auc1 = auc(fpr1, tpr1)\n",
    "print(\"Area under the ROC curve Tain : %f\" % roc_auc1)\n",
    "\n",
    "#Base Teste\n",
    "p_test = answer.predict(X_test[iv2])\n",
    "\n",
    "fpr2, tpr2, thresholds =roc_curve(y_test, p_test)\n",
    "roc_auc2 = auc(fpr2, tpr2)\n",
    "print(\"Area under the ROC curve Tain : %f\" % roc_auc2)"
   ]
  },
  {
   "cell_type": "code",
   "execution_count": null,
   "metadata": {},
   "outputs": [],
   "source": [
    "# plotando a curva ROC para as bases de treinamento e validação\n",
    "plt.plot(fpr1, tpr1)\n",
    "plt.plot(fpr2, tpr2)\n",
    "plt.plot()\n",
    "plt.xlim([0.0, 1.0])\n",
    "plt.ylim([0.0, 1.05])\n",
    "plt.xlabel('False Positive Rate')\n",
    "plt.ylabel('True Positive Rate')\n",
    "plt.title('ROC Graph')\n",
    "plt.legend([\"Train: \" + str(roc_auc1), \"Test: \" + str(roc_auc2)  ],  loc=\"lower right\")\n",
    "plt.show()"
   ]
  },
  {
   "cell_type": "markdown",
   "metadata": {},
   "source": [
    "## Parte_4B: Ajustar, Prever e Validar um modelo de Regressão Logística usando sklearn"
   ]
  },
  {
   "cell_type": "code",
   "execution_count": null,
   "metadata": {},
   "outputs": [],
   "source": [
    "X1_train = X_train[['poutcome_success' , 'default_no' , 'job_other' , 'poutcome_failure' , 'marital_single' , 'job_blue_collar' ,\n",
    "       'job_services' , 'job_technician' , 'marital_divorced']]\n",
    "X1_test = X_test[['poutcome_success' , 'default_no' , 'job_other' , 'poutcome_failure' , 'marital_single' , 'job_blue_collar' ,\n",
    "       'job_services' , 'job_technician' , 'marital_divorced']]\n",
    "\n",
    "model = ________________()\n",
    "a = model.fit(X1_train, y_train)\n",
    "\n",
    "model.fit(X1_train, y_train)\n",
    "p_train1 = model._________(X1_train)\n",
    "p_test1 = model.___________(X1_test)\n",
    "\n",
    "a.coef_"
   ]
  },
  {
   "cell_type": "code",
   "execution_count": null,
   "metadata": {},
   "outputs": [],
   "source": [
    "# Calculando confusion matrix, AUC, precision e recall para base de treinamento\n",
    "#model.fit(Xtrain, Ttrain)\n",
    "cnf_matrix = __________________(y_train, p_train1)\n",
    "print (\"\\n\\n ---Base de Treinamento---\")\n",
    "print (\"\\n\\n ---Matriz de Confusão---\")\n",
    "print(cnf_matrix)\n",
    "print('Accuracy of logistic regression classifier on test set: {:.2f}'.format(model.score(X1_train, y_train)))\n",
    "# 0,8973811142403936\n",
    "\n",
    "print (\"\\n\\n ---Logistic Model---\")\n",
    "logit_roc_auc1 = roc_auc_score(y_train, model.predict(X1_train))\n",
    "print (\"Logistic AUC = %2.2f\" % logit_roc_auc1)\n",
    "print(classification_report(y_train, p_train1))"
   ]
  },
  {
   "cell_type": "code",
   "execution_count": null,
   "metadata": {},
   "outputs": [],
   "source": [
    "# Calculando confusion matrix, AUC, precision e recall para base de treinamento\n",
    "#model.fit(Xtrain, Ttrain)\n",
    "cnf_matrix1 = confusion_matrix(y_test, p_test1)\n",
    "print (\"\\n\\n ---Base de Teste---\")\n",
    "print (\"\\n\\n ---Matriz de Confusão---\")\n",
    "print(cnf_matrix1)\n",
    "print('Accuracy of logistic regression classifier on test set: {:.2f}'.format(model.score(X1_test, y_test)))\n",
    "#0,8986112459939788\n",
    "\n",
    "print (\"\\n\\n ---Logistic Model---\")\n",
    "logit_roc_auc2 = _____________________(y_test, model.predict(X1_test))\n",
    "print (\"Logistic AUC = %2.2f\" % logit_roc_auc2)\n",
    "print(classification_report(y_test, p_test1))"
   ]
  },
  {
   "cell_type": "code",
   "execution_count": null,
   "metadata": {},
   "outputs": [],
   "source": [
    "# Plotando o curva ROC para a base de treinamento\n",
    "fpr1, tpr1, thresholds = _____________(___________, model.predict_proba(__________)[:,1])\n",
    "# fpr, tpr, thresholds = roc_curve(y_test, model.predict_proba(X_test)[:,1])\n",
    "plt.plot(fpr1, tpr1, label='Train(area = %0.2f)' % logit_roc_auc1)\n",
    "\n",
    "# Plotando o curva ROC para a base de teste\n",
    "fpr2, tpr2, thresholds = ___________(__________, model.predict_proba(___________)[:,1])\n",
    "plt.plot(fpr2, tpr2, label='Test(area = %0.2f)' % logit_roc_auc2)\n",
    "\n",
    "\n",
    "plt.xlim([0.0, 1.0])\n",
    "plt.ylim([0.0, 1.05])\n",
    "plt.xlabel('False Positive Rate')\n",
    "plt.ylabel('True Positive Rate')\n",
    "plt.title('ROC Graph')\n",
    "plt.legend(loc=\"lower right\")\n",
    "plt.show()"
   ]
  },
  {
   "cell_type": "code",
   "execution_count": null,
   "metadata": {
    "collapsed": true
   },
   "outputs": [],
   "source": []
  },
  {
   "cell_type": "markdown",
   "metadata": {
    "collapsed": true
   },
   "source": [
    "Referências <br>\n",
    "- https://towardsdatascience.com/building-a-logistic-regression-in-python-step-by-step-becd4d56c9c8"
   ]
  }
 ],
 "metadata": {
  "kernelspec": {
   "display_name": "Python 3",
   "language": "python",
   "name": "python3"
  },
  "language_info": {
   "codemirror_mode": {
    "name": "ipython",
    "version": 3
   },
   "file_extension": ".py",
   "mimetype": "text/x-python",
   "name": "python",
   "nbconvert_exporter": "python",
   "pygments_lexer": "ipython3",
   "version": "3.6.3"
  }
 },
 "nbformat": 4,
 "nbformat_minor": 1
}

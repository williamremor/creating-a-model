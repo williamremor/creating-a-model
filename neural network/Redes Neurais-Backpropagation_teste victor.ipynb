{
 "cells": [
  {
   "cell_type": "markdown",
   "metadata": {},
   "source": [
    "# Tentativa de entender os cálculos"
   ]
  },
  {
   "cell_type": "code",
   "execution_count": 1,
   "metadata": {},
   "outputs": [],
   "source": [
    "import numpy as np"
   ]
  },
  {
   "cell_type": "code",
   "execution_count": 2,
   "metadata": {},
   "outputs": [],
   "source": [
    "def sigmoid(x):\n",
    "    \"\"\"\n",
    "    Calculate sigmoid\n",
    "    \"\"\"\n",
    "    return 1 / (1 + np.exp(-x))"
   ]
  },
  {
   "cell_type": "markdown",
   "metadata": {},
   "source": [
    "### Separei o Foward do Backward "
   ]
  },
  {
   "cell_type": "code",
   "execution_count": 3,
   "metadata": {},
   "outputs": [],
   "source": [
    "x = np.array([0.5, 0.1, -0.2]) # input layer\n",
    "target = 0.6 # output\n",
    "learnrate = 0.5\n",
    "\n",
    "weights_input_hidden = np.array([[0.5, -0.6],\n",
    "                                 [0.1, -0.2],\n",
    "                                 [0.1, 0.7]])  # pesos do input layer para hidden layer 0\n",
    "\n",
    "weights_hidden_output = np.array([0.1, -0.3])  # pesos do hidden layer 0 para output\n",
    "\n",
    "## Forward pass\n",
    "hidden_layer_input = np.dot(x, weights_input_hidden) # hidden layer 0\n",
    "hidden_layer_output = sigmoid(hidden_layer_input) # hiddenlayer 0 com a função de ativação\n",
    "\n",
    "output_layer_in = np.dot(hidden_layer_output, weights_hidden_output) # output\n",
    "output = sigmoid(output_layer_in) # output com a função de ativação"
   ]
  },
  {
   "cell_type": "markdown",
   "metadata": {},
   "source": [
    "### Uma rede neural com:\n",
    "                3 neuronios de input\n",
    "                2 neuronios de hidden layer\n",
    "                1 neuronio de output"
   ]
  },
  {
   "cell_type": "code",
   "execution_count": 4,
   "metadata": {},
   "outputs": [
    {
     "name": "stdout",
     "output_type": "stream",
     "text": [
      "[ 0.5  0.1 -0.2] (3,)\n"
     ]
    }
   ],
   "source": [
    "print(x,x.shape)"
   ]
  },
  {
   "cell_type": "code",
   "execution_count": 5,
   "metadata": {},
   "outputs": [
    {
     "name": "stdout",
     "output_type": "stream",
     "text": [
      "[[ 0.5 -0.6]\n",
      " [ 0.1 -0.2]\n",
      " [ 0.1  0.7]] (3, 2)\n"
     ]
    }
   ],
   "source": [
    "print(weights_input_hidden,weights_input_hidden.shape)"
   ]
  },
  {
   "cell_type": "code",
   "execution_count": 6,
   "metadata": {},
   "outputs": [
    {
     "name": "stdout",
     "output_type": "stream",
     "text": [
      "[ 0.1 -0.3] (2,)\n"
     ]
    }
   ],
   "source": [
    "print (weights_hidden_output, weights_hidden_output.shape)"
   ]
  },
  {
   "cell_type": "code",
   "execution_count": 7,
   "metadata": {},
   "outputs": [
    {
     "name": "stdout",
     "output_type": "stream",
     "text": [
      "[ 0.24 -0.46] (2,)\n"
     ]
    }
   ],
   "source": [
    "print(hidden_layer_input,hidden_layer_input.shape)"
   ]
  },
  {
   "cell_type": "markdown",
   "metadata": {},
   "source": [
    "### Tentativa de fazer o backprapagation\n",
    "                    Não consegui entender muito bem se devemos aplicar os pesos para o calculo do gradiente.\n",
    "                    No datacamp não ficou claro para mim, eu fiz sem eles."
   ]
  },
  {
   "cell_type": "code",
   "execution_count": 8,
   "metadata": {},
   "outputs": [],
   "source": [
    "x_sigmoid= sigmoid(x)"
   ]
  },
  {
   "cell_type": "code",
   "execution_count": 9,
   "metadata": {},
   "outputs": [
    {
     "name": "stdout",
     "output_type": "stream",
     "text": [
      "Change in weights for hidden layer to output layer:\n",
      "[ 0.11657921 -0.28853714]\n",
      "Change in weights for input layer to hidden layer:\n",
      "[[ 0.5036498  -0.59648655]\n",
      " [ 0.10072996 -0.19929731]\n",
      " [ 0.09854008  0.69859462]]\n"
     ]
    }
   ],
   "source": [
    "## Backwards pass\n",
    "## TODO: Calculate output error\n",
    "error = output - target\n",
    "\n",
    "# TODO: Calculate error term for output layer\n",
    "output_error_term = hidden_layer_output * error * (1 - output) # gradiente do outpu para hidden layer\n",
    "\n",
    "# TODO: Calculate error term for hidden layer\n",
    "hidden_error_term = output_error_term  * x[:, None] * (1 - hidden_layer_output) # gradiente do hidden layer para output\n",
    "\n",
    "# TODO: Calculate change in weights for hidden layer to output layer  # atualização do peso do output para hidden layer\n",
    "delta_w_h_o =weights_hidden_output - (output_error_term * learnrate)\n",
    "\n",
    "# TODO: Calculate change in weights for input layer to hidden layer  # atualização do peso do hidden layer para input\n",
    "delta_w_i_h = weights_input_hidden - (hidden_error_term * learnrate)\n",
    "\n",
    "print('Change in weights for hidden layer to output layer:')\n",
    "print(delta_w_h_o)\n",
    "print('Change in weights for input layer to hidden layer:')\n",
    "print(delta_w_i_h)\n"
   ]
  },
  {
   "cell_type": "markdown",
   "metadata": {},
   "source": [
    "#### obs: não sei se usei a derivada da função de ativação na camada correta para o calculo dos gradientes "
   ]
  },
  {
   "cell_type": "markdown",
   "metadata": {},
   "source": [
    "### Utilzação dos novos pesos "
   ]
  },
  {
   "cell_type": "code",
   "execution_count": 10,
   "metadata": {},
   "outputs": [],
   "source": [
    "hidden_layer_input2 = np.dot(x, delta_w_i_h) # hidden layer 0\n",
    "hidden_layer_output2 = sigmoid(hidden_layer_input2) # hiddenlayer 0 com a função de ativação\n",
    "\n",
    "output_layer_in2 = np.dot(hidden_layer_output2, delta_w_h_o) # output\n",
    "output2 = sigmoid(output_layer_in2) # output com a função de ativação"
   ]
  },
  {
   "cell_type": "code",
   "execution_count": 11,
   "metadata": {},
   "outputs": [],
   "source": [
    "error2 = output2 - target"
   ]
  },
  {
   "cell_type": "code",
   "execution_count": 12,
   "metadata": {},
   "outputs": [
    {
     "data": {
      "text/plain": [
       "-0.11162046618389443"
      ]
     },
     "execution_count": 12,
     "metadata": {},
     "output_type": "execute_result"
    }
   ],
   "source": [
    "error2"
   ]
  },
  {
   "cell_type": "code",
   "execution_count": 13,
   "metadata": {},
   "outputs": [
    {
     "data": {
      "text/plain": [
       "-0.11502656915007464"
      ]
     },
     "execution_count": 13,
     "metadata": {},
     "output_type": "execute_result"
    }
   ],
   "source": [
    "error"
   ]
  },
  {
   "cell_type": "code",
   "execution_count": null,
   "metadata": {},
   "outputs": [],
   "source": []
  },
  {
   "cell_type": "code",
   "execution_count": null,
   "metadata": {},
   "outputs": [],
   "source": []
  }
 ],
 "metadata": {
  "kernelspec": {
   "display_name": "Python 3",
   "language": "python",
   "name": "python3"
  },
  "language_info": {
   "codemirror_mode": {
    "name": "ipython",
    "version": 3
   },
   "file_extension": ".py",
   "mimetype": "text/x-python",
   "name": "python",
   "nbconvert_exporter": "python",
   "pygments_lexer": "ipython3",
   "version": "3.6.4"
  }
 },
 "nbformat": 4,
 "nbformat_minor": 2
}
